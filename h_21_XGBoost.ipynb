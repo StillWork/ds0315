{
 "cells": [
  {
   "cell_type": "markdown",
   "metadata": {},
   "source": [
    "# XGBoost\n",
    "- 파이썬 래퍼, 사이킷런 래퍼 비교\n",
    "- 랜덤 포레스트와 비교"
   ]
  },
  {
   "cell_type": "code",
   "execution_count": 21,
   "metadata": {},
   "outputs": [
    {
     "name": "stdout",
     "output_type": "stream",
     "text": [
      "0.90\n"
     ]
    }
   ],
   "source": [
    "# XGBoost 버전 확인\n",
    "import xgboost\n",
    "print(xgboost.__version__)"
   ]
  },
  {
   "cell_type": "markdown",
   "metadata": {},
   "source": [
    "## 유방암 데이터\n",
    "- 악성 0, 양성 1\n",
    "### (1) 파이썬 래버 방식\n",
    "- 패키지: xgboost\n",
    "- 병렬처리과 조기 중단 기능 (num_rounds 이내에 종료 가능)\n",
    "- 중요도 시각화 함수 plot_importance 제공\n",
    "- xgb.train() 함수를 사용 (fit 이 아니라)"
   ]
  },
  {
   "cell_type": "code",
   "execution_count": 2,
   "metadata": {},
   "outputs": [
    {
     "data": {
      "text/html": [
       "<div>\n",
       "<style scoped>\n",
       "    .dataframe tbody tr th:only-of-type {\n",
       "        vertical-align: middle;\n",
       "    }\n",
       "\n",
       "    .dataframe tbody tr th {\n",
       "        vertical-align: top;\n",
       "    }\n",
       "\n",
       "    .dataframe thead th {\n",
       "        text-align: right;\n",
       "    }\n",
       "</style>\n",
       "<table border=\"1\" class=\"dataframe\">\n",
       "  <thead>\n",
       "    <tr style=\"text-align: right;\">\n",
       "      <th></th>\n",
       "      <th>mean radius</th>\n",
       "      <th>mean texture</th>\n",
       "      <th>mean perimeter</th>\n",
       "      <th>mean area</th>\n",
       "      <th>mean smoothness</th>\n",
       "      <th>mean compactness</th>\n",
       "      <th>mean concavity</th>\n",
       "      <th>mean concave points</th>\n",
       "      <th>mean symmetry</th>\n",
       "      <th>mean fractal dimension</th>\n",
       "      <th>...</th>\n",
       "      <th>worst texture</th>\n",
       "      <th>worst perimeter</th>\n",
       "      <th>worst area</th>\n",
       "      <th>worst smoothness</th>\n",
       "      <th>worst compactness</th>\n",
       "      <th>worst concavity</th>\n",
       "      <th>worst concave points</th>\n",
       "      <th>worst symmetry</th>\n",
       "      <th>worst fractal dimension</th>\n",
       "      <th>target</th>\n",
       "    </tr>\n",
       "  </thead>\n",
       "  <tbody>\n",
       "    <tr>\n",
       "      <th>0</th>\n",
       "      <td>17.99</td>\n",
       "      <td>10.38</td>\n",
       "      <td>122.8</td>\n",
       "      <td>1001.0</td>\n",
       "      <td>0.11840</td>\n",
       "      <td>0.27760</td>\n",
       "      <td>0.3001</td>\n",
       "      <td>0.14710</td>\n",
       "      <td>0.2419</td>\n",
       "      <td>0.07871</td>\n",
       "      <td>...</td>\n",
       "      <td>17.33</td>\n",
       "      <td>184.6</td>\n",
       "      <td>2019.0</td>\n",
       "      <td>0.1622</td>\n",
       "      <td>0.6656</td>\n",
       "      <td>0.7119</td>\n",
       "      <td>0.2654</td>\n",
       "      <td>0.4601</td>\n",
       "      <td>0.11890</td>\n",
       "      <td>0</td>\n",
       "    </tr>\n",
       "    <tr>\n",
       "      <th>1</th>\n",
       "      <td>20.57</td>\n",
       "      <td>17.77</td>\n",
       "      <td>132.9</td>\n",
       "      <td>1326.0</td>\n",
       "      <td>0.08474</td>\n",
       "      <td>0.07864</td>\n",
       "      <td>0.0869</td>\n",
       "      <td>0.07017</td>\n",
       "      <td>0.1812</td>\n",
       "      <td>0.05667</td>\n",
       "      <td>...</td>\n",
       "      <td>23.41</td>\n",
       "      <td>158.8</td>\n",
       "      <td>1956.0</td>\n",
       "      <td>0.1238</td>\n",
       "      <td>0.1866</td>\n",
       "      <td>0.2416</td>\n",
       "      <td>0.1860</td>\n",
       "      <td>0.2750</td>\n",
       "      <td>0.08902</td>\n",
       "      <td>0</td>\n",
       "    </tr>\n",
       "    <tr>\n",
       "      <th>2</th>\n",
       "      <td>19.69</td>\n",
       "      <td>21.25</td>\n",
       "      <td>130.0</td>\n",
       "      <td>1203.0</td>\n",
       "      <td>0.10960</td>\n",
       "      <td>0.15990</td>\n",
       "      <td>0.1974</td>\n",
       "      <td>0.12790</td>\n",
       "      <td>0.2069</td>\n",
       "      <td>0.05999</td>\n",
       "      <td>...</td>\n",
       "      <td>25.53</td>\n",
       "      <td>152.5</td>\n",
       "      <td>1709.0</td>\n",
       "      <td>0.1444</td>\n",
       "      <td>0.4245</td>\n",
       "      <td>0.4504</td>\n",
       "      <td>0.2430</td>\n",
       "      <td>0.3613</td>\n",
       "      <td>0.08758</td>\n",
       "      <td>0</td>\n",
       "    </tr>\n",
       "  </tbody>\n",
       "</table>\n",
       "<p>3 rows × 31 columns</p>\n",
       "</div>"
      ],
      "text/plain": [
       "   mean radius  mean texture  mean perimeter  mean area  mean smoothness  \\\n",
       "0        17.99         10.38           122.8     1001.0          0.11840   \n",
       "1        20.57         17.77           132.9     1326.0          0.08474   \n",
       "2        19.69         21.25           130.0     1203.0          0.10960   \n",
       "\n",
       "   mean compactness  mean concavity  mean concave points  mean symmetry  \\\n",
       "0           0.27760          0.3001              0.14710         0.2419   \n",
       "1           0.07864          0.0869              0.07017         0.1812   \n",
       "2           0.15990          0.1974              0.12790         0.2069   \n",
       "\n",
       "   mean fractal dimension  ...  worst texture  worst perimeter  worst area  \\\n",
       "0                 0.07871  ...          17.33            184.6      2019.0   \n",
       "1                 0.05667  ...          23.41            158.8      1956.0   \n",
       "2                 0.05999  ...          25.53            152.5      1709.0   \n",
       "\n",
       "   worst smoothness  worst compactness  worst concavity  worst concave points  \\\n",
       "0            0.1622             0.6656           0.7119                0.2654   \n",
       "1            0.1238             0.1866           0.2416                0.1860   \n",
       "2            0.1444             0.4245           0.4504                0.2430   \n",
       "\n",
       "   worst symmetry  worst fractal dimension  target  \n",
       "0          0.4601                  0.11890       0  \n",
       "1          0.2750                  0.08902       0  \n",
       "2          0.3613                  0.08758       0  \n",
       "\n",
       "[3 rows x 31 columns]"
      ]
     },
     "execution_count": 2,
     "metadata": {},
     "output_type": "execute_result"
    }
   ],
   "source": [
    "import xgboost as xgb\n",
    "from xgboost import plot_importance\n",
    "import pandas as pd\n",
    "import numpy as np\n",
    "from sklearn.datasets import load_breast_cancer\n",
    "from sklearn.model_selection import train_test_split\n",
    "import warnings\n",
    "warnings.filterwarnings('ignore')\n",
    "\n",
    "dataset = load_breast_cancer()\n",
    "X_features= dataset.data\n",
    "y_label = dataset.target\n",
    "\n",
    "cancer_df = pd.DataFrame(data=X_features, columns=dataset.feature_names)\n",
    "cancer_df['target']= y_label\n",
    "cancer_df.head(3)\n"
   ]
  },
  {
   "cell_type": "code",
   "execution_count": 3,
   "metadata": {},
   "outputs": [
    {
     "name": "stdout",
     "output_type": "stream",
     "text": [
      "['malignant' 'benign']\n",
      "1    357\n",
      "0    212\n",
      "Name: target, dtype: int64\n"
     ]
    }
   ],
   "source": [
    "print(dataset.target_names)\n",
    "print(cancer_df['target'].value_counts())"
   ]
  },
  {
   "cell_type": "code",
   "execution_count": 4,
   "metadata": {},
   "outputs": [
    {
     "name": "stdout",
     "output_type": "stream",
     "text": [
      "(455, 30) (114, 30)\n"
     ]
    }
   ],
   "source": [
    "# 전체 데이터 중 80%는 학습용 데이터, 20%는 테스트용 데이터 추출\n",
    "X_train, X_test, y_train, y_test=train_test_split(X_features, y_label,\n",
    "                                         test_size=0.2, random_state=9)\n",
    "print(X_train.shape , X_test.shape)\n"
   ]
  },
  {
   "cell_type": "markdown",
   "metadata": {},
   "source": [
    "- 별도의 xgoost 전용 데이터 세트 객체인 DMatrix를 사용한다 (data, label 지정)\n",
    "- 데이터프레임.values 필요"
   ]
  },
  {
   "cell_type": "code",
   "execution_count": 5,
   "metadata": {},
   "outputs": [],
   "source": [
    "dtrain = xgb.DMatrix(data=X_train , label=y_train)\n",
    "dtest = xgb.DMatrix(data=X_test , label=y_test)"
   ]
  },
  {
   "cell_type": "markdown",
   "metadata": {},
   "source": [
    "### 하이퍼 파라미터 설정\n",
    "- 하이퍼파라미터는 딕셔너리 형태로 준다\n",
    "- XGBClassifier를 사용할 때는 eta 대신 learning_rate사용)"
   ]
  },
  {
   "cell_type": "code",
   "execution_count": 6,
   "metadata": {},
   "outputs": [],
   "source": [
    "params = { 'max_depth':3,\n",
    "           'eta': 0.1,\n",
    "           'objective':'binary:logistic',\n",
    "           'eval_metric':'logloss',\n",
    "           'early_stoppings':50\n",
    "        }\n",
    "num_rounds = 400"
   ]
  },
  {
   "cell_type": "markdown",
   "metadata": {},
   "source": [
    "- xgb.train() 함수로 학습시킨다\n",
    "- 조기 중단을 검사하기 위해서 검증 데이터셋인 eval_set과 eval_metric 지정: 'eval'\n",
    "- 훈련 데이터는 'train'으로 지정\n",
    "- predict()는 분류 확률을 리턴한다 ( > 0.5 로직 필요)"
   ]
  },
  {
   "cell_type": "code",
   "execution_count": 22,
   "metadata": {
    "collapsed": true
   },
   "outputs": [
    {
     "name": "stdout",
     "output_type": "stream",
     "text": [
      "[0]\ttrain-logloss:0.608365\teval-logloss:0.614498\n",
      "[1]\ttrain-logloss:0.540282\teval-logloss:0.548604\n",
      "[2]\ttrain-logloss:0.48181\teval-logloss:0.499182\n",
      "[3]\ttrain-logloss:0.431493\teval-logloss:0.453039\n",
      "[4]\ttrain-logloss:0.390147\teval-logloss:0.414774\n",
      "[5]\ttrain-logloss:0.352733\teval-logloss:0.384982\n",
      "[6]\ttrain-logloss:0.319774\teval-logloss:0.355509\n",
      "[7]\ttrain-logloss:0.292547\teval-logloss:0.329822\n",
      "[8]\ttrain-logloss:0.267143\teval-logloss:0.311122\n",
      "[9]\ttrain-logloss:0.243862\teval-logloss:0.288465\n",
      "[10]\ttrain-logloss:0.223634\teval-logloss:0.272143\n",
      "[11]\ttrain-logloss:0.204901\teval-logloss:0.256379\n",
      "[12]\ttrain-logloss:0.188372\teval-logloss:0.241333\n",
      "[13]\ttrain-logloss:0.173465\teval-logloss:0.228977\n",
      "[14]\ttrain-logloss:0.160212\teval-logloss:0.218131\n",
      "[15]\ttrain-logloss:0.148668\teval-logloss:0.207635\n",
      "[16]\ttrain-logloss:0.137978\teval-logloss:0.199034\n",
      "[17]\ttrain-logloss:0.129548\teval-logloss:0.192091\n",
      "[18]\ttrain-logloss:0.120828\teval-logloss:0.183304\n",
      "[19]\ttrain-logloss:0.112602\teval-logloss:0.176324\n",
      "[20]\ttrain-logloss:0.105616\teval-logloss:0.169089\n",
      "[21]\ttrain-logloss:0.099308\teval-logloss:0.1642\n",
      "[22]\ttrain-logloss:0.09324\teval-logloss:0.159353\n",
      "[23]\ttrain-logloss:0.087773\teval-logloss:0.155145\n",
      "[24]\ttrain-logloss:0.083014\teval-logloss:0.149968\n",
      "[25]\ttrain-logloss:0.078734\teval-logloss:0.146876\n",
      "[26]\ttrain-logloss:0.074618\teval-logloss:0.144583\n",
      "[27]\ttrain-logloss:0.070768\teval-logloss:0.140083\n",
      "[28]\ttrain-logloss:0.067122\teval-logloss:0.136411\n",
      "[29]\ttrain-logloss:0.064036\teval-logloss:0.133863\n",
      "[30]\ttrain-logloss:0.060944\teval-logloss:0.13116\n",
      "[31]\ttrain-logloss:0.058087\teval-logloss:0.12982\n",
      "[32]\ttrain-logloss:0.055634\teval-logloss:0.126753\n",
      "[33]\ttrain-logloss:0.053276\teval-logloss:0.123671\n",
      "[34]\ttrain-logloss:0.051073\teval-logloss:0.12208\n",
      "[35]\ttrain-logloss:0.048812\teval-logloss:0.120294\n",
      "[36]\ttrain-logloss:0.046971\teval-logloss:0.119524\n",
      "[37]\ttrain-logloss:0.045018\teval-logloss:0.117428\n",
      "[38]\ttrain-logloss:0.043243\teval-logloss:0.117295\n",
      "[39]\ttrain-logloss:0.04133\teval-logloss:0.114493\n",
      "[40]\ttrain-logloss:0.03993\teval-logloss:0.11293\n",
      "[41]\ttrain-logloss:0.038544\teval-logloss:0.111053\n",
      "[42]\ttrain-logloss:0.037382\teval-logloss:0.109807\n",
      "[43]\ttrain-logloss:0.036044\teval-logloss:0.109563\n",
      "[44]\ttrain-logloss:0.034804\teval-logloss:0.109014\n",
      "[45]\ttrain-logloss:0.033696\teval-logloss:0.10898\n",
      "[46]\ttrain-logloss:0.032722\teval-logloss:0.109945\n",
      "[47]\ttrain-logloss:0.031794\teval-logloss:0.108601\n",
      "[48]\ttrain-logloss:0.030798\teval-logloss:0.108032\n",
      "[49]\ttrain-logloss:0.030026\teval-logloss:0.106823\n",
      "[50]\ttrain-logloss:0.029138\teval-logloss:0.104891\n",
      "[51]\ttrain-logloss:0.028308\teval-logloss:0.103656\n",
      "[52]\ttrain-logloss:0.027496\teval-logloss:0.102249\n",
      "[53]\ttrain-logloss:0.026655\teval-logloss:0.101671\n",
      "[54]\ttrain-logloss:0.025886\teval-logloss:0.100457\n",
      "[55]\ttrain-logloss:0.025152\teval-logloss:0.100013\n",
      "[56]\ttrain-logloss:0.024517\teval-logloss:0.099724\n",
      "[57]\ttrain-logloss:0.023903\teval-logloss:0.09906\n",
      "[58]\ttrain-logloss:0.023279\teval-logloss:0.098753\n",
      "[59]\ttrain-logloss:0.022558\teval-logloss:0.097391\n",
      "[60]\ttrain-logloss:0.021979\teval-logloss:0.09637\n",
      "[61]\ttrain-logloss:0.021491\teval-logloss:0.09622\n",
      "[62]\ttrain-logloss:0.021052\teval-logloss:0.096386\n",
      "[63]\ttrain-logloss:0.020565\teval-logloss:0.096343\n",
      "[64]\ttrain-logloss:0.02018\teval-logloss:0.096826\n",
      "[65]\ttrain-logloss:0.019673\teval-logloss:0.097791\n",
      "[66]\ttrain-logloss:0.019191\teval-logloss:0.096693\n",
      "[67]\ttrain-logloss:0.018793\teval-logloss:0.09642\n",
      "[68]\ttrain-logloss:0.01839\teval-logloss:0.096444\n",
      "[69]\ttrain-logloss:0.01805\teval-logloss:0.096181\n",
      "[70]\ttrain-logloss:0.017595\teval-logloss:0.096172\n",
      "[71]\ttrain-logloss:0.017232\teval-logloss:0.096142\n",
      "[72]\ttrain-logloss:0.016934\teval-logloss:0.095611\n",
      "[73]\ttrain-logloss:0.016564\teval-logloss:0.095119\n",
      "[74]\ttrain-logloss:0.016282\teval-logloss:0.09415\n",
      "[75]\ttrain-logloss:0.016019\teval-logloss:0.094234\n",
      "[76]\ttrain-logloss:0.015708\teval-logloss:0.093131\n",
      "[77]\ttrain-logloss:0.015427\teval-logloss:0.093085\n",
      "[78]\ttrain-logloss:0.015107\teval-logloss:0.091972\n",
      "[79]\ttrain-logloss:0.014839\teval-logloss:0.092343\n",
      "[80]\ttrain-logloss:0.014514\teval-logloss:0.092315\n",
      "[81]\ttrain-logloss:0.014344\teval-logloss:0.092705\n",
      "[82]\ttrain-logloss:0.014159\teval-logloss:0.092964\n",
      "[83]\ttrain-logloss:0.013927\teval-logloss:0.093088\n",
      "[84]\ttrain-logloss:0.013771\teval-logloss:0.093195\n",
      "[85]\ttrain-logloss:0.013575\teval-logloss:0.092815\n",
      "[86]\ttrain-logloss:0.013373\teval-logloss:0.09314\n",
      "[87]\ttrain-logloss:0.01325\teval-logloss:0.093593\n",
      "[88]\ttrain-logloss:0.013115\teval-logloss:0.093736\n",
      "[89]\ttrain-logloss:0.012957\teval-logloss:0.093886\n",
      "[90]\ttrain-logloss:0.012756\teval-logloss:0.094257\n",
      "[91]\ttrain-logloss:0.012634\teval-logloss:0.094669\n",
      "[92]\ttrain-logloss:0.012482\teval-logloss:0.094829\n",
      "[93]\ttrain-logloss:0.012378\teval-logloss:0.095078\n",
      "[94]\ttrain-logloss:0.012168\teval-logloss:0.09427\n",
      "[95]\ttrain-logloss:0.012041\teval-logloss:0.093884\n",
      "[96]\ttrain-logloss:0.011909\teval-logloss:0.094517\n",
      "[97]\ttrain-logloss:0.011815\teval-logloss:0.094366\n",
      "[98]\ttrain-logloss:0.011671\teval-logloss:0.093973\n",
      "[99]\ttrain-logloss:0.011544\teval-logloss:0.094268\n",
      "[100]\ttrain-logloss:0.011427\teval-logloss:0.093896\n",
      "[101]\ttrain-logloss:0.011304\teval-logloss:0.09433\n",
      "[102]\ttrain-logloss:0.011195\teval-logloss:0.094229\n",
      "[103]\ttrain-logloss:0.011081\teval-logloss:0.094532\n",
      "[104]\ttrain-logloss:0.010972\teval-logloss:0.094539\n",
      "[105]\ttrain-logloss:0.010887\teval-logloss:0.094777\n",
      "[106]\ttrain-logloss:0.010778\teval-logloss:0.095125\n",
      "[107]\ttrain-logloss:0.010686\teval-logloss:0.095285\n",
      "[108]\ttrain-logloss:0.010599\teval-logloss:0.095077\n",
      "[109]\ttrain-logloss:0.010503\teval-logloss:0.095431\n",
      "[110]\ttrain-logloss:0.010403\teval-logloss:0.09573\n",
      "[111]\ttrain-logloss:0.010313\teval-logloss:0.095406\n",
      "[112]\ttrain-logloss:0.010235\teval-logloss:0.095165\n",
      "[113]\ttrain-logloss:0.010116\teval-logloss:0.094519\n",
      "[114]\ttrain-logloss:0.010038\teval-logloss:0.095093\n",
      "[115]\ttrain-logloss:0.009952\teval-logloss:0.095615\n",
      "[116]\ttrain-logloss:0.009883\teval-logloss:0.09558\n",
      "[117]\ttrain-logloss:0.0098\teval-logloss:0.095211\n",
      "[118]\ttrain-logloss:0.009711\teval-logloss:0.095512\n",
      "[119]\ttrain-logloss:0.009639\teval-logloss:0.096072\n",
      "[120]\ttrain-logloss:0.009572\teval-logloss:0.095835\n",
      "[121]\ttrain-logloss:0.009469\teval-logloss:0.095247\n",
      "[122]\ttrain-logloss:0.009388\teval-logloss:0.095549\n",
      "[123]\ttrain-logloss:0.00933\teval-logloss:0.095423\n",
      "[124]\ttrain-logloss:0.009255\teval-logloss:0.09512\n",
      "[125]\ttrain-logloss:0.009179\teval-logloss:0.095516\n",
      "[126]\ttrain-logloss:0.009115\teval-logloss:0.096052\n",
      "[127]\ttrain-logloss:0.009051\teval-logloss:0.095779\n",
      "[128]\ttrain-logloss:0.008983\teval-logloss:0.096276\n",
      "[129]\ttrain-logloss:0.008928\teval-logloss:0.096162\n",
      "[130]\ttrain-logloss:0.008856\teval-logloss:0.096461\n",
      "[131]\ttrain-logloss:0.008788\teval-logloss:0.096157\n",
      "[132]\ttrain-logloss:0.008729\teval-logloss:0.096335\n",
      "[133]\ttrain-logloss:0.008699\teval-logloss:0.096211\n",
      "[134]\ttrain-logloss:0.008633\teval-logloss:0.095925\n",
      "[135]\ttrain-logloss:0.008568\teval-logloss:0.096224\n",
      "[136]\ttrain-logloss:0.008539\teval-logloss:0.095965\n",
      "[137]\ttrain-logloss:0.008475\teval-logloss:0.096334\n",
      "[138]\ttrain-logloss:0.008422\teval-logloss:0.096139\n",
      "[139]\ttrain-logloss:0.008372\teval-logloss:0.096319\n",
      "[140]\ttrain-logloss:0.008314\teval-logloss:0.096677\n",
      "[141]\ttrain-logloss:0.008287\teval-logloss:0.096502\n",
      "[142]\ttrain-logloss:0.008241\teval-logloss:0.096279\n",
      "[143]\ttrain-logloss:0.008195\teval-logloss:0.09664\n",
      "[144]\ttrain-logloss:0.008139\teval-logloss:0.097072\n",
      "[145]\ttrain-logloss:0.008059\teval-logloss:0.096573\n",
      "[146]\ttrain-logloss:0.008019\teval-logloss:0.096384\n",
      "[147]\ttrain-logloss:0.007981\teval-logloss:0.096364\n",
      "[148]\ttrain-logloss:0.007958\teval-logloss:0.09614\n",
      "[149]\ttrain-logloss:0.007915\teval-logloss:0.096073\n",
      "[150]\ttrain-logloss:0.00788\teval-logloss:0.096067\n",
      "[151]\ttrain-logloss:0.007818\teval-logloss:0.095617\n",
      "[152]\ttrain-logloss:0.007782\teval-logloss:0.095506\n",
      "[153]\ttrain-logloss:0.007747\teval-logloss:0.095458\n",
      "[154]\ttrain-logloss:0.007707\teval-logloss:0.095406\n",
      "[155]\ttrain-logloss:0.007685\teval-logloss:0.095709\n",
      "[156]\ttrain-logloss:0.007655\teval-logloss:0.095602\n",
      "[157]\ttrain-logloss:0.007624\teval-logloss:0.095761\n",
      "[158]\ttrain-logloss:0.007604\teval-logloss:0.095658\n",
      "[159]\ttrain-logloss:0.007551\teval-logloss:0.095407\n",
      "[160]\ttrain-logloss:0.00753\teval-logloss:0.095543\n",
      "[161]\ttrain-logloss:0.007497\teval-logloss:0.095434\n",
      "[162]\ttrain-logloss:0.007477\teval-logloss:0.095722\n",
      "[163]\ttrain-logloss:0.007457\teval-logloss:0.095602\n"
     ]
    },
    {
     "name": "stdout",
     "output_type": "stream",
     "text": [
      "[164]\ttrain-logloss:0.007429\teval-logloss:0.095618\n",
      "[165]\ttrain-logloss:0.007402\teval-logloss:0.095775\n",
      "[166]\ttrain-logloss:0.007371\teval-logloss:0.095722\n",
      "[167]\ttrain-logloss:0.007353\teval-logloss:0.096003\n",
      "[168]\ttrain-logloss:0.007334\teval-logloss:0.095927\n",
      "[169]\ttrain-logloss:0.007285\teval-logloss:0.095686\n",
      "[170]\ttrain-logloss:0.007267\teval-logloss:0.095818\n",
      "[171]\ttrain-logloss:0.007248\teval-logloss:0.095701\n",
      "[172]\ttrain-logloss:0.00723\teval-logloss:0.095978\n",
      "[173]\ttrain-logloss:0.007212\teval-logloss:0.096249\n",
      "[174]\ttrain-logloss:0.007194\teval-logloss:0.09615\n",
      "[175]\ttrain-logloss:0.007177\teval-logloss:0.09604\n",
      "[176]\ttrain-logloss:0.007159\teval-logloss:0.096193\n",
      "[177]\ttrain-logloss:0.007142\teval-logloss:0.096147\n",
      "[178]\ttrain-logloss:0.007124\teval-logloss:0.096308\n",
      "[179]\ttrain-logloss:0.007108\teval-logloss:0.096219\n",
      "[180]\ttrain-logloss:0.007091\teval-logloss:0.096489\n",
      "[181]\ttrain-logloss:0.007074\teval-logloss:0.096377\n",
      "[182]\ttrain-logloss:0.007057\teval-logloss:0.096183\n",
      "[183]\ttrain-logloss:0.00704\teval-logloss:0.095958\n",
      "[184]\ttrain-logloss:0.007024\teval-logloss:0.095864\n",
      "[185]\ttrain-logloss:0.007007\teval-logloss:0.09582\n",
      "[186]\ttrain-logloss:0.006991\teval-logloss:0.095974\n",
      "[187]\ttrain-logloss:0.006975\teval-logloss:0.096231\n",
      "[188]\ttrain-logloss:0.006959\teval-logloss:0.096157\n",
      "[189]\ttrain-logloss:0.006943\teval-logloss:0.09604\n",
      "[190]\ttrain-logloss:0.006927\teval-logloss:0.096297\n",
      "[191]\ttrain-logloss:0.006911\teval-logloss:0.096206\n",
      "[192]\ttrain-logloss:0.006896\teval-logloss:0.096459\n",
      "[193]\ttrain-logloss:0.00688\teval-logloss:0.096232\n",
      "[194]\ttrain-logloss:0.006865\teval-logloss:0.096133\n",
      "[195]\ttrain-logloss:0.00685\teval-logloss:0.096253\n",
      "[196]\ttrain-logloss:0.006835\teval-logloss:0.096203\n",
      "[197]\ttrain-logloss:0.00682\teval-logloss:0.096084\n",
      "[198]\ttrain-logloss:0.006805\teval-logloss:0.096333\n",
      "[199]\ttrain-logloss:0.00679\teval-logloss:0.096233\n",
      "[200]\ttrain-logloss:0.006775\teval-logloss:0.096144\n",
      "[201]\ttrain-logloss:0.006761\teval-logloss:0.095953\n",
      "[202]\ttrain-logloss:0.006746\teval-logloss:0.09573\n",
      "[203]\ttrain-logloss:0.006732\teval-logloss:0.095975\n",
      "[204]\ttrain-logloss:0.006718\teval-logloss:0.096095\n",
      "[205]\ttrain-logloss:0.006703\teval-logloss:0.095978\n",
      "[206]\ttrain-logloss:0.006689\teval-logloss:0.095888\n",
      "[207]\ttrain-logloss:0.006675\teval-logloss:0.096128\n",
      "[208]\ttrain-logloss:0.006662\teval-logloss:0.096002\n",
      "[209]\ttrain-logloss:0.006648\teval-logloss:0.096122\n",
      "[210]\ttrain-logloss:0.006635\teval-logloss:0.096054\n",
      "[211]\ttrain-logloss:0.006621\teval-logloss:0.095998\n",
      "[212]\ttrain-logloss:0.006608\teval-logloss:0.095778\n",
      "[213]\ttrain-logloss:0.006595\teval-logloss:0.096009\n",
      "[214]\ttrain-logloss:0.006581\teval-logloss:0.095938\n",
      "[215]\ttrain-logloss:0.006568\teval-logloss:0.095825\n",
      "[216]\ttrain-logloss:0.006555\teval-logloss:0.096057\n",
      "[217]\ttrain-logloss:0.006543\teval-logloss:0.096059\n",
      "[218]\ttrain-logloss:0.00653\teval-logloss:0.095973\n",
      "[219]\ttrain-logloss:0.006517\teval-logloss:0.096089\n",
      "[220]\ttrain-logloss:0.006505\teval-logloss:0.096033\n",
      "[221]\ttrain-logloss:0.006492\teval-logloss:0.095923\n",
      "[222]\ttrain-logloss:0.00648\teval-logloss:0.096149\n",
      "[223]\ttrain-logloss:0.006467\teval-logloss:0.096085\n",
      "[224]\ttrain-logloss:0.006455\teval-logloss:0.09587\n",
      "[225]\ttrain-logloss:0.006444\teval-logloss:0.095983\n",
      "[226]\ttrain-logloss:0.006431\teval-logloss:0.096043\n",
      "[227]\ttrain-logloss:0.006419\teval-logloss:0.096263\n",
      "[228]\ttrain-logloss:0.006407\teval-logloss:0.096177\n",
      "[229]\ttrain-logloss:0.006396\teval-logloss:0.096068\n",
      "[230]\ttrain-logloss:0.006384\teval-logloss:0.096184\n",
      "[231]\ttrain-logloss:0.006372\teval-logloss:0.096402\n",
      "[232]\ttrain-logloss:0.006361\teval-logloss:0.09637\n",
      "[233]\ttrain-logloss:0.00635\teval-logloss:0.09637\n",
      "[234]\ttrain-logloss:0.006338\teval-logloss:0.096432\n",
      "[235]\ttrain-logloss:0.006327\teval-logloss:0.096375\n",
      "[236]\ttrain-logloss:0.006315\teval-logloss:0.096314\n",
      "[237]\ttrain-logloss:0.006304\teval-logloss:0.096428\n",
      "[238]\ttrain-logloss:0.006293\teval-logloss:0.096312\n",
      "[239]\ttrain-logloss:0.006282\teval-logloss:0.096529\n",
      "[240]\ttrain-logloss:0.006271\teval-logloss:0.09647\n",
      "[241]\ttrain-logloss:0.00626\teval-logloss:0.096413\n",
      "[242]\ttrain-logloss:0.00625\teval-logloss:0.096415\n",
      "[243]\ttrain-logloss:0.006239\teval-logloss:0.096476\n",
      "[244]\ttrain-logloss:0.006229\teval-logloss:0.096445\n",
      "[245]\ttrain-logloss:0.006218\teval-logloss:0.096561\n",
      "[246]\ttrain-logloss:0.006207\teval-logloss:0.096771\n",
      "[247]\ttrain-logloss:0.006197\teval-logloss:0.09667\n",
      "[248]\ttrain-logloss:0.006186\teval-logloss:0.09664\n",
      "[249]\ttrain-logloss:0.006176\teval-logloss:0.096707\n",
      "[250]\ttrain-logloss:0.006166\teval-logloss:0.096917\n",
      "[251]\ttrain-logloss:0.006156\teval-logloss:0.096865\n",
      "[252]\ttrain-logloss:0.006145\teval-logloss:0.096813\n",
      "[253]\ttrain-logloss:0.006135\teval-logloss:0.096718\n",
      "[254]\ttrain-logloss:0.006126\teval-logloss:0.096693\n",
      "[255]\ttrain-logloss:0.006115\teval-logloss:0.096669\n",
      "[256]\ttrain-logloss:0.006106\teval-logloss:0.096624\n",
      "[257]\ttrain-logloss:0.006096\teval-logloss:0.096839\n",
      "[258]\ttrain-logloss:0.006086\teval-logloss:0.096847\n",
      "[259]\ttrain-logloss:0.006077\teval-logloss:0.096916\n",
      "[260]\ttrain-logloss:0.006067\teval-logloss:0.096867\n",
      "[261]\ttrain-logloss:0.006057\teval-logloss:0.096986\n",
      "[262]\ttrain-logloss:0.006048\teval-logloss:0.096897\n",
      "[263]\ttrain-logloss:0.006038\teval-logloss:0.097106\n",
      "[264]\ttrain-logloss:0.006029\teval-logloss:0.097062\n",
      "[265]\ttrain-logloss:0.006019\teval-logloss:0.097036\n",
      "[266]\ttrain-logloss:0.00601\teval-logloss:0.097154\n",
      "[267]\ttrain-logloss:0.006001\teval-logloss:0.097358\n",
      "[268]\ttrain-logloss:0.005992\teval-logloss:0.09727\n",
      "[269]\ttrain-logloss:0.005983\teval-logloss:0.097164\n",
      "[270]\ttrain-logloss:0.005974\teval-logloss:0.097172\n",
      "[271]\ttrain-logloss:0.005965\teval-logloss:0.097243\n",
      "[272]\ttrain-logloss:0.005955\teval-logloss:0.097195\n",
      "[273]\ttrain-logloss:0.005947\teval-logloss:0.097395\n",
      "[274]\ttrain-logloss:0.005938\teval-logloss:0.097352\n",
      "[275]\ttrain-logloss:0.005929\teval-logloss:0.097325\n",
      "[276]\ttrain-logloss:0.00592\teval-logloss:0.097442\n",
      "[277]\ttrain-logloss:0.005912\teval-logloss:0.097349\n",
      "[278]\ttrain-logloss:0.005903\teval-logloss:0.097549\n",
      "[279]\ttrain-logloss:0.005894\teval-logloss:0.09765\n",
      "[280]\ttrain-logloss:0.005885\teval-logloss:0.097657\n",
      "[281]\ttrain-logloss:0.005877\teval-logloss:0.097555\n",
      "[282]\ttrain-logloss:0.005868\teval-logloss:0.097507\n",
      "[283]\ttrain-logloss:0.005859\teval-logloss:0.097575\n",
      "[284]\ttrain-logloss:0.005851\teval-logloss:0.097582\n",
      "[285]\ttrain-logloss:0.005842\teval-logloss:0.097777\n",
      "[286]\ttrain-logloss:0.005834\teval-logloss:0.097686\n",
      "[287]\ttrain-logloss:0.005826\teval-logloss:0.097586\n",
      "[288]\ttrain-logloss:0.005818\teval-logloss:0.097557\n",
      "[289]\ttrain-logloss:0.005809\teval-logloss:0.097564\n",
      "[290]\ttrain-logloss:0.005801\teval-logloss:0.097666\n",
      "[291]\ttrain-logloss:0.005793\teval-logloss:0.097618\n",
      "[292]\ttrain-logloss:0.005785\teval-logloss:0.09781\n",
      "[293]\ttrain-logloss:0.005776\teval-logloss:0.097771\n",
      "[294]\ttrain-logloss:0.005769\teval-logloss:0.097885\n",
      "[295]\ttrain-logloss:0.00576\teval-logloss:0.097805\n",
      "[296]\ttrain-logloss:0.005752\teval-logloss:0.097999\n",
      "[297]\ttrain-logloss:0.005745\teval-logloss:0.097971\n",
      "[298]\ttrain-logloss:0.005737\teval-logloss:0.09798\n",
      "[299]\ttrain-logloss:0.005729\teval-logloss:0.098083\n",
      "[300]\ttrain-logloss:0.005721\teval-logloss:0.098039\n",
      "[301]\ttrain-logloss:0.005713\teval-logloss:0.097945\n",
      "[302]\ttrain-logloss:0.005706\teval-logloss:0.097862\n",
      "[303]\ttrain-logloss:0.005698\teval-logloss:0.097873\n",
      "[304]\ttrain-logloss:0.00569\teval-logloss:0.097905\n",
      "[305]\ttrain-logloss:0.005683\teval-logloss:0.097874\n",
      "[306]\ttrain-logloss:0.005675\teval-logloss:0.09783\n",
      "[307]\ttrain-logloss:0.005668\teval-logloss:0.097741\n",
      "[308]\ttrain-logloss:0.005661\teval-logloss:0.097714\n",
      "[309]\ttrain-logloss:0.005653\teval-logloss:0.097903\n",
      "[310]\ttrain-logloss:0.005646\teval-logloss:0.097823\n",
      "[311]\ttrain-logloss:0.005639\teval-logloss:0.097835\n",
      "[312]\ttrain-logloss:0.005631\teval-logloss:0.097939\n",
      "[313]\ttrain-logloss:0.005624\teval-logloss:0.098056\n",
      "[314]\ttrain-logloss:0.005617\teval-logloss:0.097858\n",
      "[315]\ttrain-logloss:0.00561\teval-logloss:0.097959\n",
      "[316]\ttrain-logloss:0.005602\teval-logloss:0.097917\n",
      "[317]\ttrain-logloss:0.005595\teval-logloss:0.09793\n",
      "[318]\ttrain-logloss:0.005588\teval-logloss:0.097856\n",
      "[319]\ttrain-logloss:0.005581\teval-logloss:0.097774\n",
      "[320]\ttrain-logloss:0.005575\teval-logloss:0.097959\n",
      "[321]\ttrain-logloss:0.005568\teval-logloss:0.097929\n",
      "[322]\ttrain-logloss:0.005561\teval-logloss:0.097886\n",
      "[323]\ttrain-logloss:0.005554\teval-logloss:0.097899\n",
      "[324]\ttrain-logloss:0.005547\teval-logloss:0.097705\n",
      "[325]\ttrain-logloss:0.00554\teval-logloss:0.097806\n"
     ]
    },
    {
     "name": "stdout",
     "output_type": "stream",
     "text": [
      "[326]\ttrain-logloss:0.005534\teval-logloss:0.097766\n",
      "[327]\ttrain-logloss:0.005527\teval-logloss:0.097749\n",
      "[328]\ttrain-logloss:0.005521\teval-logloss:0.097561\n",
      "[329]\ttrain-logloss:0.005514\teval-logloss:0.097613\n",
      "[330]\ttrain-logloss:0.005508\teval-logloss:0.097714\n",
      "[331]\ttrain-logloss:0.005501\teval-logloss:0.097731\n",
      "[332]\ttrain-logloss:0.005494\teval-logloss:0.09766\n",
      "[333]\ttrain-logloss:0.005488\teval-logloss:0.097712\n",
      "[334]\ttrain-logloss:0.005482\teval-logloss:0.097813\n",
      "[335]\ttrain-logloss:0.005475\teval-logloss:0.097629\n",
      "[336]\ttrain-logloss:0.005469\teval-logloss:0.097648\n",
      "[337]\ttrain-logloss:0.005463\teval-logloss:0.097611\n",
      "[338]\ttrain-logloss:0.005456\teval-logloss:0.097713\n",
      "[339]\ttrain-logloss:0.00545\teval-logloss:0.097646\n",
      "[340]\ttrain-logloss:0.005444\teval-logloss:0.097698\n",
      "[341]\ttrain-logloss:0.005438\teval-logloss:0.097676\n",
      "[342]\ttrain-logloss:0.005432\teval-logloss:0.097695\n",
      "[343]\ttrain-logloss:0.005426\teval-logloss:0.097658\n",
      "[344]\ttrain-logloss:0.00542\teval-logloss:0.097758\n",
      "[345]\ttrain-logloss:0.005413\teval-logloss:0.097576\n",
      "[346]\ttrain-logloss:0.005408\teval-logloss:0.097629\n",
      "[347]\ttrain-logloss:0.005402\teval-logloss:0.097609\n",
      "[348]\ttrain-logloss:0.005396\teval-logloss:0.097543\n",
      "[349]\ttrain-logloss:0.00539\teval-logloss:0.097558\n",
      "[350]\ttrain-logloss:0.005384\teval-logloss:0.09758\n",
      "[351]\ttrain-logloss:0.005378\teval-logloss:0.09768\n",
      "[352]\ttrain-logloss:0.005372\teval-logloss:0.097504\n",
      "[353]\ttrain-logloss:0.005366\teval-logloss:0.097559\n",
      "[354]\ttrain-logloss:0.005361\teval-logloss:0.097495\n",
      "[355]\ttrain-logloss:0.005355\teval-logloss:0.097595\n",
      "[356]\ttrain-logloss:0.005349\teval-logloss:0.097559\n",
      "[357]\ttrain-logloss:0.005344\teval-logloss:0.097582\n",
      "[358]\ttrain-logloss:0.005338\teval-logloss:0.097486\n",
      "[359]\ttrain-logloss:0.005333\teval-logloss:0.097459\n",
      "[360]\ttrain-logloss:0.005327\teval-logloss:0.097513\n",
      "[361]\ttrain-logloss:0.005321\teval-logloss:0.097495\n",
      "[362]\ttrain-logloss:0.005316\teval-logloss:0.09746\n",
      "[363]\ttrain-logloss:0.00531\teval-logloss:0.097559\n",
      "[364]\ttrain-logloss:0.005305\teval-logloss:0.097582\n",
      "[365]\ttrain-logloss:0.005299\teval-logloss:0.097412\n",
      "[366]\ttrain-logloss:0.005294\teval-logloss:0.097466\n",
      "[367]\ttrain-logloss:0.005289\teval-logloss:0.097403\n",
      "[368]\ttrain-logloss:0.005283\teval-logloss:0.097317\n",
      "[369]\ttrain-logloss:0.005278\teval-logloss:0.097334\n",
      "[370]\ttrain-logloss:0.005272\teval-logloss:0.097433\n",
      "[371]\ttrain-logloss:0.005267\teval-logloss:0.097458\n",
      "[372]\ttrain-logloss:0.005262\teval-logloss:0.097423\n",
      "[373]\ttrain-logloss:0.005256\teval-logloss:0.097425\n",
      "[374]\ttrain-logloss:0.005251\teval-logloss:0.09726\n",
      "[375]\ttrain-logloss:0.005246\teval-logloss:0.097314\n",
      "[376]\ttrain-logloss:0.005241\teval-logloss:0.097414\n",
      "[377]\ttrain-logloss:0.005236\teval-logloss:0.09744\n",
      "[378]\ttrain-logloss:0.005231\teval-logloss:0.097406\n",
      "[379]\ttrain-logloss:0.005226\teval-logloss:0.097409\n",
      "[380]\ttrain-logloss:0.005221\teval-logloss:0.097382\n",
      "[381]\ttrain-logloss:0.005216\teval-logloss:0.09748\n",
      "[382]\ttrain-logloss:0.005211\teval-logloss:0.097534\n",
      "[383]\ttrain-logloss:0.005206\teval-logloss:0.097376\n",
      "[384]\ttrain-logloss:0.005201\teval-logloss:0.097474\n",
      "[385]\ttrain-logloss:0.005196\teval-logloss:0.097501\n",
      "[386]\ttrain-logloss:0.005191\teval-logloss:0.097469\n",
      "[387]\ttrain-logloss:0.005186\teval-logloss:0.097473\n",
      "[388]\ttrain-logloss:0.005182\teval-logloss:0.097527\n",
      "[389]\ttrain-logloss:0.005177\teval-logloss:0.097623\n",
      "[390]\ttrain-logloss:0.005172\teval-logloss:0.097466\n",
      "[391]\ttrain-logloss:0.005167\teval-logloss:0.097493\n",
      "[392]\ttrain-logloss:0.005163\teval-logloss:0.097478\n",
      "[393]\ttrain-logloss:0.005158\teval-logloss:0.097483\n",
      "[394]\ttrain-logloss:0.005153\teval-logloss:0.097469\n",
      "[395]\ttrain-logloss:0.005149\teval-logloss:0.097565\n",
      "[396]\ttrain-logloss:0.005144\teval-logloss:0.097412\n",
      "[397]\ttrain-logloss:0.00514\teval-logloss:0.097439\n",
      "[398]\ttrain-logloss:0.005135\teval-logloss:0.097494\n",
      "[399]\ttrain-logloss:0.005131\teval-logloss:0.097591\n"
     ]
    }
   ],
   "source": [
    "wlist = [(dtrain,'train'),(dtest,'eval') ]\n",
    "# 하이퍼 파라미터와 early stopping 파라미터를 train( ) 함수의 파라미터로 전달\n",
    "xgb_model = xgb.train(params = params , dtrain=dtrain , \n",
    "                      num_boost_round=num_rounds , evals=wlist )"
   ]
  },
  {
   "cell_type": "code",
   "execution_count": 8,
   "metadata": {},
   "outputs": [
    {
     "name": "stdout",
     "output_type": "stream",
     "text": [
      "predict( ) 수행 결과값을 10개만 표시, 예측 확률 값으로 표시됨\n",
      "[0.862 0.995 0.001 0.974 0.999 0.    0.    0.    0.999 0.   ]\n",
      "예측값 10개만 표시: [1, 1, 0, 1, 1, 0, 0, 0, 1, 0]\n"
     ]
    }
   ],
   "source": [
    "pred_probs = xgb_model.predict(dtest)\n",
    "print('predict( ) 수행 결과 10개만 표시, 예측 확률')\n",
    "print(np.round(pred_probs[:10],3))\n",
    "\n",
    "# 예측 확률이 0.5 보다 크면 1 , 그렇지 않으면 0 \n",
    "preds = [ 1 if x > 0.5 else 0 for x in pred_probs ]\n",
    "print('예측값 10개 표시:',preds[:10])"
   ]
  },
  {
   "cell_type": "code",
   "execution_count": 27,
   "metadata": {},
   "outputs": [],
   "source": [
    "from sklearn.metrics import confusion_matrix, accuracy_score\n",
    "from sklearn.metrics import precision_score, recall_score\n",
    "from sklearn.metrics import f1_score, roc_auc_score\n",
    "\n",
    "def get_clf_eval(y_test , pred):\n",
    "    confusion = confusion_matrix( y_test, pred)\n",
    "    accuracy = accuracy_score(y_test , pred)\n",
    "    precision = precision_score(y_test , pred)\n",
    "    recall = recall_score(y_test , pred)\n",
    "    f1 = f1_score(y_test,pred)\n",
    "    roc_auc = roc_auc_score(y_test, pred)\n",
    "    print('컨퓨전 매트릭스')\n",
    "    print(confusion)\n",
    "    print('정확도: {0:.3f}, 정밀도: {1:.3f}, 재현율: {2:.3f}, F1: {3:.3f},\\\n",
    "    AUC:{4:.3f}'.format(accuracy, precision, recall, f1, roc_auc))"
   ]
  },
  {
   "cell_type": "code",
   "execution_count": 28,
   "metadata": {},
   "outputs": [
    {
     "name": "stdout",
     "output_type": "stream",
     "text": [
      "컨퓨전 매트릭스\n",
      "[[35  5]\n",
      " [ 0 74]]\n",
      "정확도: 0.956, 정밀도: 0.937, 재현율: 1.000,F1: 0.967,    AUC:0.938\n"
     ]
    }
   ],
   "source": [
    "get_clf_eval(y_test , preds)"
   ]
  },
  {
   "cell_type": "markdown",
   "metadata": {},
   "source": [
    "### 특성 중요도 출력 \n",
    "- plot_importance\n",
    "- 결정 트리처럼 트리구조 시각화도 가능하다 (Graphviz 사용)\n",
    "- 교차검증을 위해서 cv()를 제공한다"
   ]
  },
  {
   "cell_type": "code",
   "execution_count": 12,
   "metadata": {},
   "outputs": [
    {
     "data": {
      "text/plain": [
       "<matplotlib.axes._subplots.AxesSubplot at 0x1a1cf79a50>"
      ]
     },
     "execution_count": 12,
     "metadata": {},
     "output_type": "execute_result"
    },
    {
     "data": {
      "image/png": "[encoded data removed]",
      "text/plain": [
       "<Figure size 720x864 with 1 Axes>"
      ]
     },
     "metadata": {
      "image/png": {
       "height": 712,
       "width": 609
      },
      "needs_background": "light"
     },
     "output_type": "display_data"
    }
   ],
   "source": [
    "import matplotlib.pyplot as plt\n",
    "%matplotlib inline\n",
    "%config InlineBackend.figure_format = 'retina'\n",
    "\n",
    "fig, ax = plt.subplots(figsize=(10, 12))\n",
    "plot_importance(xgb_model, ax=ax)"
   ]
  },
  {
   "cell_type": "markdown",
   "metadata": {},
   "source": [
    "### (2) 사이킷런 래퍼 방식\n",
    "- 사이킷런의 Estimator를 상속하여 만들었다\n",
    "- 따라서 fit(), predict() 사용 가능\n",
    "- GridSearchCV, Pipeline등의 사이킷런 유틸리티 사용 가능\n",
    "- XGBClassifier, XGBRegressor 제공\n",
    "- subsample 하이퍼 파라미터 사용 (파이썬 래퍼에서는 sub_sample)\n",
    "- n_estimators 사용 (num_rounds 대신) - 아래에서 400\n",
    "- 조기 종료 설정 (아래에서 100)"
   ]
  },
  {
   "cell_type": "code",
   "execution_count": 30,
   "metadata": {
    "collapsed": true
   },
   "outputs": [
    {
     "name": "stdout",
     "output_type": "stream",
     "text": [
      "[0]\tvalidation_0-logloss:0.614498\n",
      "Will train until validation_0-logloss hasn't improved in 100 rounds.\n",
      "[1]\tvalidation_0-logloss:0.548604\n",
      "[2]\tvalidation_0-logloss:0.499182\n",
      "[3]\tvalidation_0-logloss:0.453039\n",
      "[4]\tvalidation_0-logloss:0.414774\n",
      "[5]\tvalidation_0-logloss:0.384982\n",
      "[6]\tvalidation_0-logloss:0.355509\n",
      "[7]\tvalidation_0-logloss:0.329822\n",
      "[8]\tvalidation_0-logloss:0.311122\n",
      "[9]\tvalidation_0-logloss:0.288465\n",
      "[10]\tvalidation_0-logloss:0.272143\n",
      "[11]\tvalidation_0-logloss:0.256379\n",
      "[12]\tvalidation_0-logloss:0.241333\n",
      "[13]\tvalidation_0-logloss:0.228977\n",
      "[14]\tvalidation_0-logloss:0.218131\n",
      "[15]\tvalidation_0-logloss:0.207635\n",
      "[16]\tvalidation_0-logloss:0.199034\n",
      "[17]\tvalidation_0-logloss:0.192091\n",
      "[18]\tvalidation_0-logloss:0.183304\n",
      "[19]\tvalidation_0-logloss:0.176324\n",
      "[20]\tvalidation_0-logloss:0.169089\n",
      "[21]\tvalidation_0-logloss:0.1642\n",
      "[22]\tvalidation_0-logloss:0.159353\n",
      "[23]\tvalidation_0-logloss:0.155145\n",
      "[24]\tvalidation_0-logloss:0.149968\n",
      "[25]\tvalidation_0-logloss:0.146876\n",
      "[26]\tvalidation_0-logloss:0.144583\n",
      "[27]\tvalidation_0-logloss:0.140083\n",
      "[28]\tvalidation_0-logloss:0.136411\n",
      "[29]\tvalidation_0-logloss:0.133863\n",
      "[30]\tvalidation_0-logloss:0.13116\n",
      "[31]\tvalidation_0-logloss:0.12982\n",
      "[32]\tvalidation_0-logloss:0.126753\n",
      "[33]\tvalidation_0-logloss:0.123671\n",
      "[34]\tvalidation_0-logloss:0.12208\n",
      "[35]\tvalidation_0-logloss:0.120294\n",
      "[36]\tvalidation_0-logloss:0.119524\n",
      "[37]\tvalidation_0-logloss:0.117428\n",
      "[38]\tvalidation_0-logloss:0.117295\n",
      "[39]\tvalidation_0-logloss:0.114493\n",
      "[40]\tvalidation_0-logloss:0.11293\n",
      "[41]\tvalidation_0-logloss:0.111053\n",
      "[42]\tvalidation_0-logloss:0.109807\n",
      "[43]\tvalidation_0-logloss:0.109563\n",
      "[44]\tvalidation_0-logloss:0.109014\n",
      "[45]\tvalidation_0-logloss:0.10898\n",
      "[46]\tvalidation_0-logloss:0.109945\n",
      "[47]\tvalidation_0-logloss:0.108601\n",
      "[48]\tvalidation_0-logloss:0.108032\n",
      "[49]\tvalidation_0-logloss:0.106823\n",
      "[50]\tvalidation_0-logloss:0.104891\n",
      "[51]\tvalidation_0-logloss:0.103656\n",
      "[52]\tvalidation_0-logloss:0.102249\n",
      "[53]\tvalidation_0-logloss:0.101671\n",
      "[54]\tvalidation_0-logloss:0.100457\n",
      "[55]\tvalidation_0-logloss:0.100013\n",
      "[56]\tvalidation_0-logloss:0.099724\n",
      "[57]\tvalidation_0-logloss:0.09906\n",
      "[58]\tvalidation_0-logloss:0.098753\n",
      "[59]\tvalidation_0-logloss:0.097391\n",
      "[60]\tvalidation_0-logloss:0.09637\n",
      "[61]\tvalidation_0-logloss:0.09622\n",
      "[62]\tvalidation_0-logloss:0.096386\n",
      "[63]\tvalidation_0-logloss:0.096343\n",
      "[64]\tvalidation_0-logloss:0.096826\n",
      "[65]\tvalidation_0-logloss:0.097791\n",
      "[66]\tvalidation_0-logloss:0.096693\n",
      "[67]\tvalidation_0-logloss:0.09642\n",
      "[68]\tvalidation_0-logloss:0.096444\n",
      "[69]\tvalidation_0-logloss:0.096181\n",
      "[70]\tvalidation_0-logloss:0.096172\n",
      "[71]\tvalidation_0-logloss:0.096142\n",
      "[72]\tvalidation_0-logloss:0.095611\n",
      "[73]\tvalidation_0-logloss:0.095119\n",
      "[74]\tvalidation_0-logloss:0.09415\n",
      "[75]\tvalidation_0-logloss:0.094234\n",
      "[76]\tvalidation_0-logloss:0.093131\n",
      "[77]\tvalidation_0-logloss:0.093085\n",
      "[78]\tvalidation_0-logloss:0.091972\n",
      "[79]\tvalidation_0-logloss:0.092343\n",
      "[80]\tvalidation_0-logloss:0.092315\n",
      "[81]\tvalidation_0-logloss:0.092705\n",
      "[82]\tvalidation_0-logloss:0.092964\n",
      "[83]\tvalidation_0-logloss:0.093088\n",
      "[84]\tvalidation_0-logloss:0.093195\n",
      "[85]\tvalidation_0-logloss:0.092815\n",
      "[86]\tvalidation_0-logloss:0.09314\n",
      "[87]\tvalidation_0-logloss:0.093593\n",
      "[88]\tvalidation_0-logloss:0.093736\n",
      "[89]\tvalidation_0-logloss:0.093886\n",
      "[90]\tvalidation_0-logloss:0.094257\n",
      "[91]\tvalidation_0-logloss:0.094669\n",
      "[92]\tvalidation_0-logloss:0.094829\n",
      "[93]\tvalidation_0-logloss:0.095078\n",
      "[94]\tvalidation_0-logloss:0.09427\n",
      "[95]\tvalidation_0-logloss:0.093884\n",
      "[96]\tvalidation_0-logloss:0.094517\n",
      "[97]\tvalidation_0-logloss:0.094366\n",
      "[98]\tvalidation_0-logloss:0.093973\n",
      "[99]\tvalidation_0-logloss:0.094268\n",
      "[100]\tvalidation_0-logloss:0.093896\n",
      "[101]\tvalidation_0-logloss:0.09433\n",
      "[102]\tvalidation_0-logloss:0.094229\n",
      "[103]\tvalidation_0-logloss:0.094532\n",
      "[104]\tvalidation_0-logloss:0.094539\n",
      "[105]\tvalidation_0-logloss:0.094777\n",
      "[106]\tvalidation_0-logloss:0.095125\n",
      "[107]\tvalidation_0-logloss:0.095285\n",
      "[108]\tvalidation_0-logloss:0.095077\n",
      "[109]\tvalidation_0-logloss:0.095431\n",
      "[110]\tvalidation_0-logloss:0.09573\n",
      "[111]\tvalidation_0-logloss:0.095406\n",
      "[112]\tvalidation_0-logloss:0.095165\n",
      "[113]\tvalidation_0-logloss:0.094519\n",
      "[114]\tvalidation_0-logloss:0.095093\n",
      "[115]\tvalidation_0-logloss:0.095615\n",
      "[116]\tvalidation_0-logloss:0.09558\n",
      "[117]\tvalidation_0-logloss:0.095211\n",
      "[118]\tvalidation_0-logloss:0.095512\n",
      "[119]\tvalidation_0-logloss:0.096072\n",
      "[120]\tvalidation_0-logloss:0.095835\n",
      "[121]\tvalidation_0-logloss:0.095247\n",
      "[122]\tvalidation_0-logloss:0.095549\n",
      "[123]\tvalidation_0-logloss:0.095423\n",
      "[124]\tvalidation_0-logloss:0.09512\n",
      "[125]\tvalidation_0-logloss:0.095516\n",
      "[126]\tvalidation_0-logloss:0.096052\n",
      "[127]\tvalidation_0-logloss:0.095779\n",
      "[128]\tvalidation_0-logloss:0.096276\n",
      "[129]\tvalidation_0-logloss:0.096162\n",
      "[130]\tvalidation_0-logloss:0.096461\n",
      "[131]\tvalidation_0-logloss:0.096157\n",
      "[132]\tvalidation_0-logloss:0.096335\n",
      "[133]\tvalidation_0-logloss:0.096211\n",
      "[134]\tvalidation_0-logloss:0.095925\n",
      "[135]\tvalidation_0-logloss:0.096224\n",
      "[136]\tvalidation_0-logloss:0.095965\n",
      "[137]\tvalidation_0-logloss:0.096334\n",
      "[138]\tvalidation_0-logloss:0.096139\n",
      "[139]\tvalidation_0-logloss:0.096319\n",
      "[140]\tvalidation_0-logloss:0.096677\n",
      "[141]\tvalidation_0-logloss:0.096502\n",
      "[142]\tvalidation_0-logloss:0.096279\n",
      "[143]\tvalidation_0-logloss:0.09664\n",
      "[144]\tvalidation_0-logloss:0.097072\n",
      "[145]\tvalidation_0-logloss:0.096573\n",
      "[146]\tvalidation_0-logloss:0.096384\n",
      "[147]\tvalidation_0-logloss:0.096364\n",
      "[148]\tvalidation_0-logloss:0.09614\n",
      "[149]\tvalidation_0-logloss:0.096073\n",
      "[150]\tvalidation_0-logloss:0.096067\n",
      "[151]\tvalidation_0-logloss:0.095617\n",
      "[152]\tvalidation_0-logloss:0.095506\n",
      "[153]\tvalidation_0-logloss:0.095458\n",
      "[154]\tvalidation_0-logloss:0.095406\n",
      "[155]\tvalidation_0-logloss:0.095709\n",
      "[156]\tvalidation_0-logloss:0.095602\n",
      "[157]\tvalidation_0-logloss:0.095761\n",
      "[158]\tvalidation_0-logloss:0.095658\n",
      "[159]\tvalidation_0-logloss:0.095407\n",
      "[160]\tvalidation_0-logloss:0.095543\n",
      "[161]\tvalidation_0-logloss:0.095434\n",
      "[162]\tvalidation_0-logloss:0.095722\n",
      "[163]\tvalidation_0-logloss:0.095602\n",
      "[164]\tvalidation_0-logloss:0.095618\n",
      "[165]\tvalidation_0-logloss:0.095775\n",
      "[166]\tvalidation_0-logloss:0.095722\n",
      "[167]\tvalidation_0-logloss:0.096003\n",
      "[168]\tvalidation_0-logloss:0.095927\n",
      "[169]\tvalidation_0-logloss:0.095686\n",
      "[170]\tvalidation_0-logloss:0.095818\n",
      "[171]\tvalidation_0-logloss:0.095701\n",
      "[172]\tvalidation_0-logloss:0.095978\n",
      "[173]\tvalidation_0-logloss:0.096249\n",
      "[174]\tvalidation_0-logloss:0.09615\n",
      "[175]\tvalidation_0-logloss:0.09604\n",
      "[176]\tvalidation_0-logloss:0.096193\n",
      "[177]\tvalidation_0-logloss:0.096147\n",
      "[178]\tvalidation_0-logloss:0.096308\n",
      "Stopping. Best iteration:\n",
      "[78]\tvalidation_0-logloss:0.091972\n",
      "\n"
     ]
    }
   ],
   "source": [
    "from xgboost import XGBClassifier\n",
    "\n",
    "evals = [(X_test, y_test)]\n",
    "xgb_wrapper = XGBClassifier(n_estimators=400, learning_rate=0.1, max_depth=3)\n",
    "xgb_wrapper.fit(X_train, y_train, early_stopping_rounds=100, \n",
    "                eval_metric=\"logloss\", eval_set=evals, verbose=True)\n",
    "ws100_preds = xgb_wrapper.predict(X_test)"
   ]
  },
  {
   "cell_type": "code",
   "execution_count": 16,
   "metadata": {
    "scrolled": true
   },
   "outputs": [
    {
     "name": "stdout",
     "output_type": "stream",
     "text": [
      "오차 행렬\n",
      "[[36  4]\n",
      " [ 0 74]]\n",
      "정확도: 0.9649, 정밀도: 0.9487, 재현율: 1.0000,    F1: 0.9737, AUC:0.9500\n"
     ]
    }
   ],
   "source": [
    "get_clf_eval(y_test , ws100_preds)"
   ]
  },
  {
   "cell_type": "markdown",
   "metadata": {},
   "source": [
    "### 조기 종료를 10으로\n",
    "- early_stopping_rounds를 10으로 설정\n",
    "- 너무 일찍 종료될 수 있다"
   ]
  },
  {
   "cell_type": "code",
   "execution_count": 31,
   "metadata": {},
   "outputs": [
    {
     "name": "stdout",
     "output_type": "stream",
     "text": [
      "[0]\tvalidation_0-logloss:0.614498\n",
      "Will train until validation_0-logloss hasn't improved in 10 rounds.\n",
      "[1]\tvalidation_0-logloss:0.548604\n",
      "[2]\tvalidation_0-logloss:0.499182\n",
      "[3]\tvalidation_0-logloss:0.453039\n",
      "[4]\tvalidation_0-logloss:0.414774\n",
      "[5]\tvalidation_0-logloss:0.384982\n",
      "[6]\tvalidation_0-logloss:0.355509\n",
      "[7]\tvalidation_0-logloss:0.329822\n",
      "[8]\tvalidation_0-logloss:0.311122\n",
      "[9]\tvalidation_0-logloss:0.288465\n",
      "[10]\tvalidation_0-logloss:0.272143\n",
      "[11]\tvalidation_0-logloss:0.256379\n",
      "[12]\tvalidation_0-logloss:0.241333\n",
      "[13]\tvalidation_0-logloss:0.228977\n",
      "[14]\tvalidation_0-logloss:0.218131\n",
      "[15]\tvalidation_0-logloss:0.207635\n",
      "[16]\tvalidation_0-logloss:0.199034\n",
      "[17]\tvalidation_0-logloss:0.192091\n",
      "[18]\tvalidation_0-logloss:0.183304\n",
      "[19]\tvalidation_0-logloss:0.176324\n",
      "[20]\tvalidation_0-logloss:0.169089\n",
      "[21]\tvalidation_0-logloss:0.1642\n",
      "[22]\tvalidation_0-logloss:0.159353\n",
      "[23]\tvalidation_0-logloss:0.155145\n",
      "[24]\tvalidation_0-logloss:0.149968\n",
      "[25]\tvalidation_0-logloss:0.146876\n",
      "[26]\tvalidation_0-logloss:0.144583\n",
      "[27]\tvalidation_0-logloss:0.140083\n",
      "[28]\tvalidation_0-logloss:0.136411\n",
      "[29]\tvalidation_0-logloss:0.133863\n",
      "[30]\tvalidation_0-logloss:0.13116\n",
      "[31]\tvalidation_0-logloss:0.12982\n",
      "[32]\tvalidation_0-logloss:0.126753\n",
      "[33]\tvalidation_0-logloss:0.123671\n",
      "[34]\tvalidation_0-logloss:0.12208\n",
      "[35]\tvalidation_0-logloss:0.120294\n",
      "[36]\tvalidation_0-logloss:0.119524\n",
      "[37]\tvalidation_0-logloss:0.117428\n",
      "[38]\tvalidation_0-logloss:0.117295\n",
      "[39]\tvalidation_0-logloss:0.114493\n",
      "[40]\tvalidation_0-logloss:0.11293\n",
      "[41]\tvalidation_0-logloss:0.111053\n",
      "[42]\tvalidation_0-logloss:0.109807\n",
      "[43]\tvalidation_0-logloss:0.109563\n",
      "[44]\tvalidation_0-logloss:0.109014\n",
      "[45]\tvalidation_0-logloss:0.10898\n",
      "[46]\tvalidation_0-logloss:0.109945\n",
      "[47]\tvalidation_0-logloss:0.108601\n",
      "[48]\tvalidation_0-logloss:0.108032\n",
      "[49]\tvalidation_0-logloss:0.106823\n",
      "[50]\tvalidation_0-logloss:0.104891\n",
      "[51]\tvalidation_0-logloss:0.103656\n",
      "[52]\tvalidation_0-logloss:0.102249\n",
      "[53]\tvalidation_0-logloss:0.101671\n",
      "[54]\tvalidation_0-logloss:0.100457\n",
      "[55]\tvalidation_0-logloss:0.100013\n",
      "[56]\tvalidation_0-logloss:0.099724\n",
      "[57]\tvalidation_0-logloss:0.09906\n",
      "[58]\tvalidation_0-logloss:0.098753\n",
      "[59]\tvalidation_0-logloss:0.097391\n",
      "[60]\tvalidation_0-logloss:0.09637\n",
      "[61]\tvalidation_0-logloss:0.09622\n",
      "[62]\tvalidation_0-logloss:0.096386\n",
      "[63]\tvalidation_0-logloss:0.096343\n",
      "[64]\tvalidation_0-logloss:0.096826\n",
      "[65]\tvalidation_0-logloss:0.097791\n",
      "[66]\tvalidation_0-logloss:0.096693\n",
      "[67]\tvalidation_0-logloss:0.09642\n",
      "[68]\tvalidation_0-logloss:0.096444\n",
      "[69]\tvalidation_0-logloss:0.096181\n",
      "[70]\tvalidation_0-logloss:0.096172\n",
      "[71]\tvalidation_0-logloss:0.096142\n",
      "[72]\tvalidation_0-logloss:0.095611\n",
      "[73]\tvalidation_0-logloss:0.095119\n",
      "[74]\tvalidation_0-logloss:0.09415\n",
      "[75]\tvalidation_0-logloss:0.094234\n",
      "[76]\tvalidation_0-logloss:0.093131\n",
      "[77]\tvalidation_0-logloss:0.093085\n",
      "[78]\tvalidation_0-logloss:0.091972\n",
      "[79]\tvalidation_0-logloss:0.092343\n",
      "[80]\tvalidation_0-logloss:0.092315\n",
      "[81]\tvalidation_0-logloss:0.092705\n",
      "[82]\tvalidation_0-logloss:0.092964\n",
      "[83]\tvalidation_0-logloss:0.093088\n",
      "[84]\tvalidation_0-logloss:0.093195\n",
      "[85]\tvalidation_0-logloss:0.092815\n",
      "[86]\tvalidation_0-logloss:0.09314\n",
      "[87]\tvalidation_0-logloss:0.093593\n",
      "[88]\tvalidation_0-logloss:0.093736\n",
      "Stopping. Best iteration:\n",
      "[78]\tvalidation_0-logloss:0.091972\n",
      "\n",
      "컨퓨전 매트릭스\n",
      "[[36  4]\n",
      " [ 0 74]]\n",
      "정확도: 0.965, 정밀도: 0.949, 재현율: 1.000,F1: 0.974,    AUC:0.950\n"
     ]
    }
   ],
   "source": [
    "xgb_wrapper.fit(X_train, y_train, early_stopping_rounds=10, \n",
    "                eval_metric=\"logloss\", eval_set=evals,verbose=True)\n",
    "ws10_preds = xgb_wrapper.predict(X_test)\n",
    "get_clf_eval(y_test , ws10_preds)"
   ]
  },
  {
   "cell_type": "markdown",
   "metadata": {},
   "source": [
    "- 특성 중요도 출력"
   ]
  },
  {
   "cell_type": "code",
   "execution_count": 32,
   "metadata": {},
   "outputs": [
    {
     "data": {
      "text/plain": [
       "<matplotlib.axes._subplots.AxesSubplot at 0x1a205a4a90>"
      ]
     },
     "execution_count": 32,
     "metadata": {},
     "output_type": "execute_result"
    },
    {
     "data": {
      "image/png": "[encoded data removed]",
      "text/plain": [
       "<Figure size 720x864 with 1 Axes>"
      ]
     },
     "metadata": {
      "image/png": {
       "height": 712,
       "width": 609
      },
      "needs_background": "light"
     },
     "output_type": "display_data"
    }
   ],
   "source": [
    "from xgboost import plot_importance\n",
    "import matplotlib.pyplot as plt\n",
    "%matplotlib inline\n",
    "\n",
    "fig, ax = plt.subplots(figsize=(10, 12))\n",
    "# 사이킷런 래퍼 클래스를 입력해도 무방. \n",
    "plot_importance(xgb_wrapper, ax=ax)"
   ]
  },
  {
   "cell_type": "markdown",
   "metadata": {},
   "source": [
    "## (3)랜덤 포레스트와 비교"
   ]
  },
  {
   "cell_type": "code",
   "execution_count": 33,
   "metadata": {},
   "outputs": [
    {
     "name": "stdout",
     "output_type": "stream",
     "text": [
      "컨퓨전 매트릭스\n",
      "[[36  4]\n",
      " [ 0 74]]\n",
      "정확도: 0.965, 정밀도: 0.949, 재현율: 1.000,F1: 0.974,    AUC:0.950\n"
     ]
    }
   ],
   "source": [
    "from sklearn.ensemble import RandomForestClassifier\n",
    "rfc = RandomForestClassifier(n_estimators=100)\n",
    "rfc.fit(X_train, y_train)\n",
    "y_p = rfc.predict(X_test)\n",
    "get_clf_eval(y_test , y_p)"
   ]
  },
  {
   "cell_type": "markdown",
   "metadata": {},
   "source": [
    "# LightGBM \n",
    "- 코랩에서 실행"
   ]
  },
  {
   "cell_type": "code",
   "execution_count": 6,
   "metadata": {
    "colab": {
     "base_uri": "https://localhost:8080/",
     "height": 127
    },
    "colab_type": "code",
    "id": "FPhYs7WxW4GH",
    "outputId": "8804843e-d852-4dc6-dd0b-c025988a405c"
   },
   "outputs": [],
   "source": [
    "# 윈도우에서\n",
    "#!pip install lightgbm"
   ]
  },
  {
   "cell_type": "code",
   "execution_count": 5,
   "metadata": {},
   "outputs": [
    {
     "name": "stdout",
     "output_type": "stream",
     "text": [
      "/bin/sh: brew: command not found\r\n"
     ]
    }
   ],
   "source": [
    "# 맥에서\n",
    "#!brew install lightgbm"
   ]
  },
  {
   "cell_type": "code",
   "execution_count": null,
   "metadata": {},
   "outputs": [],
   "source": []
  },
  {
   "cell_type": "code",
   "execution_count": 1,
   "metadata": {
    "colab": {
     "base_uri": "https://localhost:8080/",
     "height": 35
    },
    "colab_type": "code",
    "id": "PTZNOljuW4GN",
    "outputId": "22fb7d7f-f8f8-469a-cfef-8a5c27b91ef7"
   },
   "outputs": [],
   "source": [
    "import lightgbm\n",
    "# print(lightgbm.__version__)"
   ]
  },
  {
   "cell_type": "code",
   "execution_count": 2,
   "metadata": {
    "colab": {},
    "colab_type": "code",
    "id": "ZptFWAdeW4GS"
   },
   "outputs": [],
   "source": [
    "from lightgbm import LGBMClassifier\n",
    "\n",
    "import pandas as pd\n",
    "import numpy as np\n",
    "from sklearn.datasets import load_breast_cancer\n",
    "from sklearn.model_selection import train_test_split\n",
    "from sklearn.metrics import confusion_matrix, classification_report, roc_curve, roc_auc_score"
   ]
  },
  {
   "cell_type": "code",
   "execution_count": 5,
   "metadata": {
    "colab": {
     "base_uri": "https://localhost:8080/",
     "height": 1000
    },
    "colab_type": "code",
    "collapsed": true,
    "id": "Ac7wfKRGV7wr",
    "outputId": "1dff598b-0b9e-4e72-da5b-70bcb2eafc8d"
   },
   "outputs": [
    {
     "name": "stdout",
     "output_type": "stream",
     "text": [
      "[1]\tvalid_0's binary_logloss: 0.565079\n",
      "Training until validation scores don't improve for 100 rounds\n",
      "[2]\tvalid_0's binary_logloss: 0.507451\n",
      "[3]\tvalid_0's binary_logloss: 0.458489\n",
      "[4]\tvalid_0's binary_logloss: 0.417481\n",
      "[5]\tvalid_0's binary_logloss: 0.385507\n",
      "[6]\tvalid_0's binary_logloss: 0.355846\n",
      "[7]\tvalid_0's binary_logloss: 0.330897\n",
      "[8]\tvalid_0's binary_logloss: 0.306923\n",
      "[9]\tvalid_0's binary_logloss: 0.28776\n",
      "[10]\tvalid_0's binary_logloss: 0.26917\n",
      "[11]\tvalid_0's binary_logloss: 0.250954\n",
      "[12]\tvalid_0's binary_logloss: 0.23847\n",
      "[13]\tvalid_0's binary_logloss: 0.225865\n",
      "[14]\tvalid_0's binary_logloss: 0.215076\n",
      "[15]\tvalid_0's binary_logloss: 0.205996\n",
      "[16]\tvalid_0's binary_logloss: 0.196091\n",
      "[17]\tvalid_0's binary_logloss: 0.186395\n",
      "[18]\tvalid_0's binary_logloss: 0.17942\n",
      "[19]\tvalid_0's binary_logloss: 0.174727\n",
      "[20]\tvalid_0's binary_logloss: 0.168563\n",
      "[21]\tvalid_0's binary_logloss: 0.165432\n",
      "[22]\tvalid_0's binary_logloss: 0.160356\n",
      "[23]\tvalid_0's binary_logloss: 0.155508\n",
      "[24]\tvalid_0's binary_logloss: 0.151598\n",
      "[25]\tvalid_0's binary_logloss: 0.149861\n",
      "[26]\tvalid_0's binary_logloss: 0.149873\n",
      "[27]\tvalid_0's binary_logloss: 0.147032\n",
      "[28]\tvalid_0's binary_logloss: 0.145077\n",
      "[29]\tvalid_0's binary_logloss: 0.139891\n",
      "[30]\tvalid_0's binary_logloss: 0.137416\n",
      "[31]\tvalid_0's binary_logloss: 0.138393\n",
      "[32]\tvalid_0's binary_logloss: 0.135948\n",
      "[33]\tvalid_0's binary_logloss: 0.132968\n",
      "[34]\tvalid_0's binary_logloss: 0.129697\n",
      "[35]\tvalid_0's binary_logloss: 0.131102\n",
      "[36]\tvalid_0's binary_logloss: 0.129382\n",
      "[37]\tvalid_0's binary_logloss: 0.128044\n",
      "[38]\tvalid_0's binary_logloss: 0.127325\n",
      "[39]\tvalid_0's binary_logloss: 0.128091\n",
      "[40]\tvalid_0's binary_logloss: 0.129045\n",
      "[41]\tvalid_0's binary_logloss: 0.127023\n",
      "[42]\tvalid_0's binary_logloss: 0.129314\n",
      "[43]\tvalid_0's binary_logloss: 0.129175\n",
      "[44]\tvalid_0's binary_logloss: 0.128212\n",
      "[45]\tvalid_0's binary_logloss: 0.126664\n",
      "[46]\tvalid_0's binary_logloss: 0.127662\n",
      "[47]\tvalid_0's binary_logloss: 0.126108\n",
      "[48]\tvalid_0's binary_logloss: 0.129371\n",
      "[49]\tvalid_0's binary_logloss: 0.129573\n",
      "[50]\tvalid_0's binary_logloss: 0.130876\n",
      "[51]\tvalid_0's binary_logloss: 0.131366\n",
      "[52]\tvalid_0's binary_logloss: 0.131336\n",
      "[53]\tvalid_0's binary_logloss: 0.13208\n",
      "[54]\tvalid_0's binary_logloss: 0.13306\n",
      "[55]\tvalid_0's binary_logloss: 0.132342\n",
      "[56]\tvalid_0's binary_logloss: 0.134836\n",
      "[57]\tvalid_0's binary_logloss: 0.135208\n",
      "[58]\tvalid_0's binary_logloss: 0.13328\n",
      "[59]\tvalid_0's binary_logloss: 0.134147\n",
      "[60]\tvalid_0's binary_logloss: 0.134549\n",
      "[61]\tvalid_0's binary_logloss: 0.133202\n",
      "[62]\tvalid_0's binary_logloss: 0.135726\n",
      "[63]\tvalid_0's binary_logloss: 0.134011\n",
      "[64]\tvalid_0's binary_logloss: 0.131493\n",
      "[65]\tvalid_0's binary_logloss: 0.134114\n",
      "[66]\tvalid_0's binary_logloss: 0.134525\n",
      "[67]\tvalid_0's binary_logloss: 0.131412\n",
      "[68]\tvalid_0's binary_logloss: 0.12878\n",
      "[69]\tvalid_0's binary_logloss: 0.129571\n",
      "[70]\tvalid_0's binary_logloss: 0.129671\n",
      "[71]\tvalid_0's binary_logloss: 0.129935\n",
      "[72]\tvalid_0's binary_logloss: 0.128951\n",
      "[73]\tvalid_0's binary_logloss: 0.128977\n",
      "[74]\tvalid_0's binary_logloss: 0.127121\n",
      "[75]\tvalid_0's binary_logloss: 0.128107\n",
      "[76]\tvalid_0's binary_logloss: 0.129796\n",
      "[77]\tvalid_0's binary_logloss: 0.131663\n",
      "[78]\tvalid_0's binary_logloss: 0.132483\n",
      "[79]\tvalid_0's binary_logloss: 0.131578\n",
      "[80]\tvalid_0's binary_logloss: 0.130352\n",
      "[81]\tvalid_0's binary_logloss: 0.129895\n",
      "[82]\tvalid_0's binary_logloss: 0.131587\n",
      "[83]\tvalid_0's binary_logloss: 0.132763\n",
      "[84]\tvalid_0's binary_logloss: 0.133677\n",
      "[85]\tvalid_0's binary_logloss: 0.137552\n",
      "[86]\tvalid_0's binary_logloss: 0.136055\n",
      "[87]\tvalid_0's binary_logloss: 0.137904\n",
      "[88]\tvalid_0's binary_logloss: 0.139524\n",
      "[89]\tvalid_0's binary_logloss: 0.138434\n",
      "[90]\tvalid_0's binary_logloss: 0.138402\n",
      "[91]\tvalid_0's binary_logloss: 0.139384\n",
      "[92]\tvalid_0's binary_logloss: 0.139642\n",
      "[93]\tvalid_0's binary_logloss: 0.138006\n",
      "[94]\tvalid_0's binary_logloss: 0.141612\n",
      "[95]\tvalid_0's binary_logloss: 0.142319\n",
      "[96]\tvalid_0's binary_logloss: 0.145095\n",
      "[97]\tvalid_0's binary_logloss: 0.141542\n",
      "[98]\tvalid_0's binary_logloss: 0.144993\n",
      "[99]\tvalid_0's binary_logloss: 0.147936\n",
      "[100]\tvalid_0's binary_logloss: 0.147432\n",
      "[101]\tvalid_0's binary_logloss: 0.149689\n",
      "[102]\tvalid_0's binary_logloss: 0.153542\n",
      "[103]\tvalid_0's binary_logloss: 0.154556\n",
      "[104]\tvalid_0's binary_logloss: 0.155458\n",
      "[105]\tvalid_0's binary_logloss: 0.159357\n",
      "[106]\tvalid_0's binary_logloss: 0.160176\n",
      "[107]\tvalid_0's binary_logloss: 0.163369\n",
      "[108]\tvalid_0's binary_logloss: 0.163494\n",
      "[109]\tvalid_0's binary_logloss: 0.161111\n",
      "[110]\tvalid_0's binary_logloss: 0.16332\n",
      "[111]\tvalid_0's binary_logloss: 0.1663\n",
      "[112]\tvalid_0's binary_logloss: 0.166363\n",
      "[113]\tvalid_0's binary_logloss: 0.169834\n",
      "[114]\tvalid_0's binary_logloss: 0.166509\n",
      "[115]\tvalid_0's binary_logloss: 0.165823\n",
      "[116]\tvalid_0's binary_logloss: 0.167059\n",
      "[117]\tvalid_0's binary_logloss: 0.169086\n",
      "[118]\tvalid_0's binary_logloss: 0.170012\n",
      "[119]\tvalid_0's binary_logloss: 0.168639\n",
      "[120]\tvalid_0's binary_logloss: 0.16907\n",
      "[121]\tvalid_0's binary_logloss: 0.16918\n",
      "[122]\tvalid_0's binary_logloss: 0.170233\n",
      "[123]\tvalid_0's binary_logloss: 0.165655\n",
      "[124]\tvalid_0's binary_logloss: 0.16695\n",
      "[125]\tvalid_0's binary_logloss: 0.170955\n",
      "[126]\tvalid_0's binary_logloss: 0.168916\n",
      "[127]\tvalid_0's binary_logloss: 0.172316\n",
      "[128]\tvalid_0's binary_logloss: 0.173734\n",
      "[129]\tvalid_0's binary_logloss: 0.174309\n",
      "[130]\tvalid_0's binary_logloss: 0.176719\n",
      "[131]\tvalid_0's binary_logloss: 0.176591\n",
      "[132]\tvalid_0's binary_logloss: 0.180168\n",
      "[133]\tvalid_0's binary_logloss: 0.179856\n",
      "[134]\tvalid_0's binary_logloss: 0.179251\n",
      "[135]\tvalid_0's binary_logloss: 0.18315\n",
      "[136]\tvalid_0's binary_logloss: 0.184656\n",
      "[137]\tvalid_0's binary_logloss: 0.187475\n",
      "[138]\tvalid_0's binary_logloss: 0.188721\n",
      "[139]\tvalid_0's binary_logloss: 0.188542\n",
      "[140]\tvalid_0's binary_logloss: 0.18817\n",
      "[141]\tvalid_0's binary_logloss: 0.185899\n",
      "[142]\tvalid_0's binary_logloss: 0.185452\n",
      "[143]\tvalid_0's binary_logloss: 0.186084\n",
      "[144]\tvalid_0's binary_logloss: 0.185302\n",
      "[145]\tvalid_0's binary_logloss: 0.187856\n",
      "[146]\tvalid_0's binary_logloss: 0.190334\n",
      "[147]\tvalid_0's binary_logloss: 0.192769\n",
      "Early stopping, best iteration is:\n",
      "[47]\tvalid_0's binary_logloss: 0.126108\n"
     ]
    },
    {
     "data": {
      "text/plain": [
       "LGBMClassifier(boosting_type='gbdt', class_weight=None, colsample_bytree=1.0,\n",
       "               importance_type='split', learning_rate=0.1, max_depth=-1,\n",
       "               min_child_samples=20, min_child_weight=0.001, min_split_gain=0.0,\n",
       "               n_estimators=400, n_jobs=-1, num_leaves=31, objective=None,\n",
       "               random_state=None, reg_alpha=0.0, reg_lambda=0.0, silent=True,\n",
       "               subsample=1.0, subsample_for_bin=200000, subsample_freq=0)"
      ]
     },
     "execution_count": 5,
     "metadata": {},
     "output_type": "execute_result"
    }
   ],
   "source": [
    "dataset = load_breast_cancer()\n",
    "ftr = dataset.data\n",
    "target = dataset.target\n",
    "\n",
    "X_train, X_test, y_train, y_test=train_test_split(ftr, target, \n",
    "                  test_size=0.2, random_state=156 )\n",
    "\n",
    "lgbm_wrapper = LGBMClassifier(n_estimators=400)\n",
    "evals = [(X_test, y_test)]\n",
    "lgbm_wrapper.fit(X_train, y_train, early_stopping_rounds=20, \n",
    "                 eval_metric=\"logloss\", eval_set=evals, verbose=True)\n",
    "# preds = lgbm_wrapper.predict(X_test)\n"
   ]
  },
  {
   "cell_type": "code",
   "execution_count": 14,
   "metadata": {},
   "outputs": [
    {
     "data": {
      "text/plain": [
       "((569, 30), (569,))"
      ]
     },
     "execution_count": 14,
     "metadata": {},
     "output_type": "execute_result"
    }
   ],
   "source": [
    "ftr.shape, target.shape"
   ]
  },
  {
   "cell_type": "code",
   "execution_count": 9,
   "metadata": {
    "colab": {
     "base_uri": "https://localhost:8080/",
     "height": 215
    },
    "colab_type": "code",
    "id": "bXM2F8M_W4GV",
    "outputId": "c80834cc-ecd2-452c-e995-a7c44cfde050"
   },
   "outputs": [
    {
     "name": "stdout",
     "output_type": "stream",
     "text": [
      "[[33  4]\n",
      " [ 2 75]]\n",
      "              precision    recall  f1-score   support\n",
      "\n",
      "           0       0.94      0.89      0.92        37\n",
      "           1       0.95      0.97      0.96        77\n",
      "\n",
      "    accuracy                           0.95       114\n",
      "   macro avg       0.95      0.93      0.94       114\n",
      "weighted avg       0.95      0.95      0.95       114\n",
      "\n"
     ]
    }
   ],
   "source": [
    "y_pred = lgbm_wrapper.predict(X_test)\n",
    "print(confusion_matrix(y_test, y_pred))\n",
    "print(classification_report(y_test, y_pred))"
   ]
  },
  {
   "cell_type": "code",
   "execution_count": 10,
   "metadata": {
    "colab": {
     "base_uri": "https://localhost:8080/",
     "height": 35
    },
    "colab_type": "code",
    "id": "GGLN_-5mWgxd",
    "outputId": "271eaa3e-9850-4e2e-fc67-deb8f2d0cf58"
   },
   "outputs": [
    {
     "data": {
      "text/plain": [
       "0.932958932958933"
      ]
     },
     "execution_count": 10,
     "metadata": {},
     "output_type": "execute_result"
    }
   ],
   "source": [
    "roc_auc_score(y_test, y_pred)"
   ]
  },
  {
   "cell_type": "code",
   "execution_count": 11,
   "metadata": {},
   "outputs": [
    {
     "data": {
      "text/plain": [
       "0.9473684210526315"
      ]
     },
     "execution_count": 11,
     "metadata": {},
     "output_type": "execute_result"
    }
   ],
   "source": [
    "from sklearn.ensemble import RandomForestClassifier\n",
    "rfc = RandomForestClassifier(n_estimators=300)\n",
    "rfc.fit(X_train, y_train)\n",
    "rfc.score(X_test,y_test)"
   ]
  },
  {
   "cell_type": "code",
   "execution_count": null,
   "metadata": {},
   "outputs": [],
   "source": [
    "y_pred = lgbm_wrapper.predict(X_test)\n",
    "print(confusion_matrix(y_test, y_pred))\n",
    "print(classification_report(y_test, y_pred))"
   ]
  },
  {
   "cell_type": "code",
   "execution_count": 0,
   "metadata": {
    "colab": {
     "base_uri": "https://localhost:8080/",
     "height": 747
    },
    "colab_type": "code",
    "id": "TejTHbVMW4Gb",
    "outputId": "8caeafcc-97a6-4350-bd63-c8937f478a16"
   },
   "outputs": [
    {
     "data": {
      "text/plain": [
       "<matplotlib.axes._subplots.AxesSubplot at 0x7f27cc2d1b38>"
      ]
     },
     "execution_count": 8,
     "metadata": {
      "tags": []
     },
     "output_type": "execute_result"
    },
    {
     "data": {
      "image/png": "[encoded data removed]",
      "text/plain": [
       "<Figure size 720x864 with 1 Axes>"
      ]
     },
     "metadata": {
      "image/png": {
       "height": 712,
       "width": 649
      },
      "needs_background": "light",
      "tags": []
     },
     "output_type": "display_data"
    }
   ],
   "source": [
    "# plot_importance( )를 이용하여 feature 중요도 시각화\n",
    "from lightgbm import plot_importance\n",
    "import matplotlib.pyplot as plt\n",
    "%matplotlib inline\n",
    "%config InlineBackend.figure_format = 'retina'\n",
    "\n",
    "\n",
    "fig, ax = plt.subplots(figsize=(10, 12))\n",
    "plot_importance(lgbm_wrapper, ax=ax)\n",
    "# , feature_names=dataset.feature_names"
   ]
  },
  {
   "cell_type": "code",
   "execution_count": 0,
   "metadata": {
    "colab": {},
    "colab_type": "code",
    "id": "82Lzq8KlW4Ge"
   },
   "outputs": [],
   "source": []
  },
  {
   "cell_type": "code",
   "execution_count": null,
   "metadata": {},
   "outputs": [],
   "source": []
  }
 ],
 "metadata": {
  "kernelspec": {
   "display_name": "Python 3",
   "language": "python",
   "name": "python3"
  },
  "language_info": {
   "codemirror_mode": {
    "name": "ipython",
    "version": 3
   },
   "file_extension": ".py",
   "mimetype": "text/x-python",
   "name": "python",
   "nbconvert_exporter": "python",
   "pygments_lexer": "ipython3",
   "version": "3.7.6"
  },
  "toc": {
   "base_numbering": 1,
   "nav_menu": {},
   "number_sections": false,
   "sideBar": true,
   "skip_h1_title": false,
   "title_cell": "Table of Contents",
   "title_sidebar": "Contents",
   "toc_cell": false,
   "toc_position": {},
   "toc_section_display": true,
   "toc_window_display": true
  }
 },
 "nbformat": 4,
 "nbformat_minor": 2
}
