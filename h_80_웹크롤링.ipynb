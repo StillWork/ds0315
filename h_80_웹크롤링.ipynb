{
 "cells": [
  {
   "cell_type": "markdown",
   "metadata": {},
   "source": [
    "# 웹크롤링 \n",
    "\n",
    "- selenium 라이브러리의 webdriver 사용\n",
    " - 사람이 하는 작업을 코드로 구현하게 한다\n",
    " - 현재 사용중인 웹 드라이버를 사용한다\n",
    "- Beatifulsoup을 사용한 HTML 파싱\n",
    "- (참조) 데잍분석 실무 파이썬 (이형석 외 저)"
   ]
  },
  {
   "cell_type": "markdown",
   "metadata": {},
   "source": [
    "### selenium과 크롬드라이버 설치"
   ]
  },
  {
   "cell_type": "code",
   "execution_count": 7,
   "metadata": {},
   "outputs": [],
   "source": [
    "# ! pip install selenium\n",
    "from selenium import webdriver"
   ]
  },
  {
   "cell_type": "code",
   "execution_count": 4,
   "metadata": {},
   "outputs": [
    {
     "name": "stdout",
     "output_type": "stream",
     "text": [
      "https://sites.google.com/a/chromium.org/chromedriver/downloads\n"
     ]
    }
   ],
   "source": [
    "# 크롬드라이버 다운받기\n",
    "# 아래 주소클릭 후, 자신의 크롬 버전 확인 후 해당 버전 파일 다운로드 (89 등)\n",
    "# https://sites.google.com/a/chromium.org/chromedriver/downloads\n",
    "print('https://sites.google.com/a/chromium.org/chromedriver/downloads')"
   ]
  },
  {
   "cell_type": "markdown",
   "metadata": {},
   "source": [
    "### 크롬드라이버 활용하기"
   ]
  },
  {
   "cell_type": "code",
   "execution_count": 5,
   "metadata": {},
   "outputs": [
    {
     "name": "stdout",
     "output_type": "stream",
     "text": [
      "/Users/hwa-kim/Dropbox/lab/book12/datasalon-master/02_개정판/2_Data_Analysis_Basic\r\n"
     ]
    }
   ],
   "source": [
    "!pwd"
   ]
  },
  {
   "cell_type": "code",
   "execution_count": 6,
   "metadata": {},
   "outputs": [],
   "source": [
    "# 크롬브라우저 실행하기 (위에서 다운받은 파일 지정)\n",
    "# driver에 명령을 내려서 브라우저를 조작할 수 있다\n",
    "\n",
    "from selenium import webdriver\n",
    "# (윈도우) driver = webdriver.Chrome('c:/download_folder/chromedriver.exe')\n",
    "# (맥)\n",
    "driver = webdriver.Chrome('/Users/hwa-kim/Dropbox/down/chromedriver')"
   ]
  },
  {
   "cell_type": "code",
   "execution_count": 12,
   "metadata": {},
   "outputs": [],
   "source": [
    "url = 'https://www.naver.com/'\n",
    "driver.get(url)"
   ]
  },
  {
   "cell_type": "markdown",
   "metadata": {},
   "source": [
    "### 웹 페이지(HTML) 다운로드"
   ]
  },
  {
   "cell_type": "code",
   "execution_count": 13,
   "metadata": {},
   "outputs": [],
   "source": [
    "# 예제 2-38 웹페이지 html 다운로드 하기\n",
    "html = driver.page_source"
   ]
  },
  {
   "cell_type": "code",
   "execution_count": 17,
   "metadata": {},
   "outputs": [
    {
     "data": {
      "text/plain": [
       "'<html lang=\"ko\" data-dark=\"false\" data-useragent=\"Mozilla/5.0 (Macintosh; Intel Mac OS X 10_15_7) AppleWebKit/537.36 (KHTML, like Gecko) Chrome/89.0.4389.90 Safari/537.36\"><head> <meta charset=\"utf-8\"> <title>NAVER</title> <meta http-equiv=\"X-UA-Compatible\" content=\"IE=edge\"> <meta name=\"viewport\" content=\"width=1190\"> <meta name=\"apple-mobile-web-app-title\" content=\"NAVER\"> <meta name=\"robots\" co'"
      ]
     },
     "execution_count": 17,
     "metadata": {},
     "output_type": "execute_result"
    }
   ],
   "source": [
    "html[:400]"
   ]
  },
  {
   "cell_type": "markdown",
   "metadata": {},
   "source": [
    "### HTML 구조 살펴보기\n"
   ]
  },
  {
   "cell_type": "code",
   "execution_count": 93,
   "metadata": {},
   "outputs": [],
   "source": [
    "# 실습용 HTML (여러 줄의 문자열 사용)\n",
    "html = '''\n",
    "<html>\n",
    "    <head>\n",
    "    </head>\n",
    "    <body>\n",
    "        <h1> 우리동네시장</h1>\n",
    "            <div class = 'sale'>\n",
    "                <p id='fruits1' class='fruits'>\n",
    "                    <span class = 'name'> 바나나 </span>\n",
    "                    <span class = 'price'> 3000원 </span>\n",
    "                    <span class = 'inventory'> 500개 </span>\n",
    "                    <span class = 'store'> 가나다상회 </span>\n",
    "                    <a href = 'http://bit.ly/forPlaywithData' > 홈페이지 </a>\n",
    "                </p>\n",
    "            </div>\n",
    "            <div class = 'prepare'>\n",
    "                <p id='fruits2' class='fruits'>\n",
    "                    <span class ='name'> 파인애플 </span>\n",
    "                </p>\n",
    "            </div>\n",
    "    </body>\n",
    "</html>\n",
    "'''\n"
   ]
  },
  {
   "cell_type": "markdown",
   "metadata": {},
   "source": [
    "# BeautifulSoup을 이용한 정보 찾기"
   ]
  },
  {
   "cell_type": "code",
   "execution_count": 19,
   "metadata": {},
   "outputs": [],
   "source": [
    "from bs4 import BeautifulSoup\n",
    "soup = BeautifulSoup(html, 'html.parser')"
   ]
  },
  {
   "cell_type": "markdown",
   "metadata": {},
   "source": [
    "### HTML 정보 찾기 ① - 태그 속성 활용\n"
   ]
  },
  {
   "cell_type": "code",
   "execution_count": 21,
   "metadata": {},
   "outputs": [],
   "source": [
    "# 태그명으로 태그 찾기, select로 조건 명시\n",
    "tags_span = soup.select('span')\n",
    "tags_p = soup.select('p')"
   ]
  },
  {
   "cell_type": "code",
   "execution_count": 22,
   "metadata": {},
   "outputs": [
    {
     "data": {
      "text/plain": [
       "[<span class=\"name\"> 바나나 </span>,\n",
       " <span class=\"price\"> 3000원 </span>,\n",
       " <span class=\"inventory\"> 500개 </span>,\n",
       " <span class=\"store\"> 가나다상회 </span>,\n",
       " <span class=\"name\"> 파인애플 </span>]"
      ]
     },
     "execution_count": 22,
     "metadata": {},
     "output_type": "execute_result"
    }
   ],
   "source": [
    "tags_span"
   ]
  },
  {
   "cell_type": "code",
   "execution_count": 24,
   "metadata": {},
   "outputs": [],
   "source": [
    "# 속성명으로 찾기, # 뒤에 id, 또는 '.' 뒤에 class\n",
    "# 태그명과 클래스로 지정하기\n",
    "ids_fruits1 = soup.select('#fruits1')\n",
    "class_price = soup.select('.price')\n",
    "tags_span_class_price = soup.select('span.price')"
   ]
  },
  {
   "cell_type": "code",
   "execution_count": 28,
   "metadata": {},
   "outputs": [
    {
     "name": "stdout",
     "output_type": "stream",
     "text": [
      "[<p class=\"fruits\" id=\"fruits1\">\n",
      "<span class=\"name\"> 바나나 </span>\n",
      "<span class=\"price\"> 3000원 </span>\n",
      "<span class=\"inventory\"> 500개 </span>\n",
      "<span class=\"store\"> 가나다상회 </span>\n",
      "<a href=\"http://bit.ly/forPlaywithData\"> 홈페이지 </a>\n",
      "</p>]\n"
     ]
    }
   ],
   "source": [
    "print(ids_fruits1)"
   ]
  },
  {
   "cell_type": "code",
   "execution_count": 30,
   "metadata": {},
   "outputs": [
    {
     "name": "stdout",
     "output_type": "stream",
     "text": [
      "[<span class=\"price\"> 3000원 </span>]\n"
     ]
    }
   ],
   "source": [
    "print(class_price)"
   ]
  },
  {
   "cell_type": "code",
   "execution_count": 31,
   "metadata": {},
   "outputs": [
    {
     "name": "stdout",
     "output_type": "stream",
     "text": [
      "[<span class=\"price\"> 3000원 </span>]\n"
     ]
    }
   ],
   "source": [
    "print(tags_span_class_price)"
   ]
  },
  {
   "cell_type": "markdown",
   "metadata": {},
   "source": [
    "### HTML 정보 찾기 ② - 상위 구조 활용"
   ]
  },
  {
   "cell_type": "code",
   "execution_count": 33,
   "metadata": {},
   "outputs": [
    {
     "name": "stdout",
     "output_type": "stream",
     "text": [
      "[<span class=\"name\"> 바나나 </span>, <span class=\"name\"> 파인애플 </span>]\n"
     ]
    }
   ],
   "source": [
    "# 태그명과 스팬 이름으로 모두 찾기 (2개))\n",
    "tags_name = soup.select('span.name')\n",
    "print(tags_name)"
   ]
  },
  {
   "cell_type": "code",
   "execution_count": 35,
   "metadata": {},
   "outputs": [
    {
     "name": "stdout",
     "output_type": "stream",
     "text": [
      "[<span class=\"name\"> 바나나 </span>]\n"
     ]
    }
   ],
   "source": [
    "# 바나나가 속한 부모 태그를 지정하여 찾기 (fruits1: 1개)\n",
    "tags_banana1 = soup.select('#fruits1 > span.name')\n",
    "print(tags_banana1)"
   ]
  },
  {
   "cell_type": "code",
   "execution_count": 36,
   "metadata": {},
   "outputs": [
    {
     "name": "stdout",
     "output_type": "stream",
     "text": [
      "[<span class=\"name\"> 바나나 </span>]\n",
      "[<span class=\"name\"> 바나나 </span>]\n"
     ]
    }
   ],
   "source": [
    "# 태그 구조로 위치 찾기: 한 단계 아래는 '>' 로 표시, 여러 단계 아래는 ' ' 사용\n",
    "# 아래는 같은 결과를 나타냄\n",
    "tags_banana2 = soup.select('div.sale > #fruits1 > span.name')\n",
    "tags_banana3 = soup.select('div.sale span.name')\n",
    "print(tags_banana2)\n",
    "print(tags_banana3)"
   ]
  },
  {
   "cell_type": "markdown",
   "metadata": {},
   "source": [
    "###  정보 가져오기 ① - 태그 그룹에서 하나의 태그 선택하기\n"
   ]
  },
  {
   "cell_type": "code",
   "execution_count": 38,
   "metadata": {},
   "outputs": [
    {
     "data": {
      "text/plain": [
       "([<span class=\"name\"> 바나나 </span>, <span class=\"name\"> 파인애플 </span>],\n",
       " <span class=\"name\"> 바나나 </span>)"
      ]
     },
     "execution_count": 38,
     "metadata": {},
     "output_type": "execute_result"
    }
   ],
   "source": [
    "# 태그 그룹에서 하나의 태그만 선택하기\n",
    "tags = soup.select('span.name')\n",
    "tag_1 = tags[0]    #인덱스 번호로 하나의 태그 지정하기\n",
    "tags, tag_1"
   ]
  },
  {
   "cell_type": "code",
   "execution_count": 41,
   "metadata": {},
   "outputs": [
    {
     "name": "stdout",
     "output_type": "stream",
     "text": [
      "<span class=\"name\"> 바나나 </span>\n",
      "<span class=\"name\"> 파인애플 </span>\n"
     ]
    }
   ],
   "source": [
    "for tag in tags:\n",
    "    print(tag)"
   ]
  },
  {
   "cell_type": "markdown",
   "metadata": {},
   "source": [
    "### 정보 가져오기 ② - 선택한 태그에서 정보 가져오기"
   ]
  },
  {
   "cell_type": "markdown",
   "metadata": {},
   "source": [
    "- 태그에서 화면에 보이는 텍스트 부분만 가져오기  \n",
    "\n",
    "content = tag.text   \n",
    "attribute = tag['속성명']  # 태그 내 속성값 가져오기"
   ]
  },
  {
   "cell_type": "code",
   "execution_count": 45,
   "metadata": {},
   "outputs": [
    {
     "name": "stdout",
     "output_type": "stream",
     "text": [
      "[<a href=\"http://bit.ly/forPlaywithData\"> 홈페이지 </a>]\n",
      " 홈페이지 \n",
      "http://bit.ly/forPlaywithData\n"
     ]
    }
   ],
   "source": [
    "# 선택한 태그에서 텍스트, 속성 값 가져오기\n",
    "tags = soup.select('a')\n",
    "print(tags)\n",
    "tag = tags[0]\n",
    "content = tag.text\n",
    "print(content)\n",
    "link = tag['href']\n",
    "print(link)"
   ]
  },
  {
   "cell_type": "markdown",
   "metadata": {},
   "source": [
    "## 멜론 노래 순위 정보 크롤링①"
   ]
  },
  {
   "cell_type": "markdown",
   "metadata": {},
   "source": [
    "※ 경로지정시  `슬러시 (/) 사용` \n",
    "    * 역슬러시(\\) X  : unicode 에러 발생 가능\n",
    "    * 슬러시(/)  O"
   ]
  },
  {
   "cell_type": "markdown",
   "metadata": {},
   "source": [
    "※ 멜론 사이트 개편으로 인해, 크롤링 진행 코드가 변경되었습니다. (updated 2020.07.13)"
   ]
  },
  {
   "cell_type": "code",
   "execution_count": 15,
   "metadata": {},
   "outputs": [],
   "source": [
    "# 크롬드라이버 실행\n",
    "# from selenium import webdriver\n",
    "# driver = webdriver.Chrome('c:/playwithdata/chromedriver.exe')"
   ]
  },
  {
   "cell_type": "code",
   "execution_count": 49,
   "metadata": {},
   "outputs": [],
   "source": [
    "# 예제 2-52 멜론 인기차트 웹페이지 접속하기\n",
    "url = 'http://www.melon.com/chart/index.htm'\n",
    "driver.get(url)"
   ]
  },
  {
   "cell_type": "code",
   "execution_count": 50,
   "metadata": {},
   "outputs": [],
   "source": [
    "# 예제 2-53 HTML 다운로드 및 BeautifulSoup으로 읽기\n",
    "from bs4 import BeautifulSoup\n",
    "html = driver.page_source\n",
    "soup = BeautifulSoup(html, 'html.parser')"
   ]
  },
  {
   "cell_type": "code",
   "execution_count": 79,
   "metadata": {},
   "outputs": [
    {
     "name": "stdout",
     "output_type": "stream",
     "text": [
      "100\n",
      "<tr data-song-no=\"30287019\">\n",
      "<td><div class=\"wrap t_right\"><input class=\"input_check\" name=\"input_check\" title=\"롤린 (Rollin') 곡 선택\" type=\"checkbox\" value=\"30287019\"/></div></td>\n",
      "<td><div class=\"wrap\">\n",
      "<a class=\"image_typeAll\" href=\"javascript:melon.link.goAlbumDetail('10043575');\" title=\"Rollin'\">\n",
      "<img alt=\"Rollin' - 페이지 이동\" height=\"60\" onerror=\"WEBPOCIMG.defaultAlbumImg(this);\" src=\"https://cdnimg.melon.co.kr/cm2/album/images/100/43/575/10043575_20210302112520_500.jpg/melon/resize/120/quality/80/optimize\" width=\"60\"/>\n",
      "<span class=\"bg_album_frame\"></span>\n",
      "</a>\n",
      "</div></td>\n",
      "<td><div class=\"wrap\">\n",
      "<a class=\"btn button_icons type03 song_info\" href=\"javascript:melon.link.goSongDetail('30287019');\" title=\"롤린 (Rollin') 곡정보\"><span class=\"none\">곡정보</span></a>\n",
      "</div></td>\n",
      "<td><div class=\"wrap\">\n",
      "<div class=\"wrap_song_info\">\n",
      "<div class=\"ellipsis rank01\"><span>\n",
      "<a href=\"javascript:melon.play.playSong('19030101',30287019);\" title=\"롤린 (Rollin') 재생\">롤린 (Rollin')</a>\n",
      "</span></div>\n",
      "<br/>\n",
      "<div class=\"ellipsis rank02\">\n",
      "<a href=\"javascript:melon.link.goArtistDetail('531700');\" title=\"브레이브걸스 - 페이지 이동\">브레이브걸스</a><span class=\"checkEllipsis\" style=\"display: none;\"><a href=\"javascript:melon.link.goArtistDetail('531700');\" title=\"브레이브걸스 - 페이지 이동\">브레이브걸스</a></span>\n",
      "</div>\n",
      "</div>\n",
      "</div></td>\n",
      "<td><div class=\"wrap\">\n",
      "<div class=\"wrap_song_info\">\n",
      "<div class=\"ellipsis rank03\">\n",
      "<a href=\"javascript:melon.link.goAlbumDetail('10043575');\" title=\"Rollin' - 페이지 이동\">Rollin'</a>\n",
      "</div>\n",
      "</div>\n",
      "</div></td>\n",
      "<td><div class=\"wrap\">\n",
      "<button class=\"button_etc like\" data-song-menuid=\"19030101\" data-song-no=\"30287019\" title=\"롤린 (Rollin') 좋아요\" type=\"button\"><span class=\"odd_span\">좋아요</span>\n",
      "<span class=\"cnt\">\n",
      "<span class=\"none\">총건수</span>\n",
      "182,888</span></button>\n",
      "</div></td>\n",
      "<td><div class=\"wrap t_center\">\n",
      "<button class=\"button_icons play\" onclick=\"melon.play.playSong('19030101',30287019);\" title=\"듣기\" type=\"button\"><span class=\"none\">듣기</span></button>\n",
      "</div></td>\n",
      "<td><div class=\"wrap t_center\">\n",
      "<button class=\"button_icons scrap\" onclick=\"melon.play.addPlayList('30287019');\" title=\"담기\" type=\"button\"><span class=\"none\">담기</span></button>\n",
      "</div></td>\n",
      "<td><div class=\"wrap t_center\">\n",
      "<button class=\"button_icons download\" onclick=\"melon.buy.goBuyProduct('frm', '30287019', '3C0001', '','0', '19030101');\" title=\"다운로드\" type=\"button\"><span class=\"none\">다운로드</span></button>\n",
      "</div></td>\n",
      "<td><div class=\"wrap t_center\">\n",
      "<button class=\"button_icons video\" onclick=\"melon.link.goMvDetail('19030101', '30287019','song');\" title=\"뮤직비디오\" type=\"button\"><span class=\"none\">뮤직비디오</span></button>\n",
      "</div></td>\n",
      "</tr>\n"
     ]
    }
   ],
   "source": [
    "songs = soup.select('table > tbody >tr')\n",
    "# (다른 방법) songs = soup.select('tr')[1:]     # 첫 번째는 제외하고, 두 번째(인덱스번호 1) 부터 끝까지만 선택\n",
    "print(len(songs))                 # 100 으로 정리하고 싶은 노래 개수에 맞게 선택됨\n",
    "print(songs[0])                   # 그 중 첫 번째 태그를 보니, 1위 곡으로 조회됨"
   ]
  },
  {
   "cell_type": "code",
   "execution_count": 81,
   "metadata": {},
   "outputs": [],
   "source": [
    "song = songs[0]"
   ]
  },
  {
   "cell_type": "code",
   "execution_count": 82,
   "metadata": {},
   "outputs": [
    {
     "data": {
      "text/plain": [
       "6"
      ]
     },
     "execution_count": 82,
     "metadata": {},
     "output_type": "execute_result"
    }
   ],
   "source": [
    "# 태그 'a'의 갯수 찾기\n",
    "title = song.select('a')\n",
    "len(title)"
   ]
  },
  {
   "cell_type": "code",
   "execution_count": 83,
   "metadata": {},
   "outputs": [
    {
     "data": {
      "text/plain": [
       "2"
      ]
     },
     "execution_count": 83,
     "metadata": {},
     "output_type": "execute_result"
    }
   ],
   "source": [
    "# span > a인 갯수 찾기\n",
    "title = song.select('span > a')\n",
    "len(title)"
   ]
  },
  {
   "cell_type": "code",
   "execution_count": 84,
   "metadata": {},
   "outputs": [
    {
     "data": {
      "text/plain": [
       "[<a href=\"javascript:melon.play.playSong('19030101',30287019);\" title=\"롤린 (Rollin') 재생\">롤린 (Rollin')</a>,\n",
       " <a href=\"javascript:melon.link.goArtistDetail('531700');\" title=\"브레이브걸스 - 페이지 이동\">브레이브걸스</a>]"
      ]
     },
     "execution_count": 84,
     "metadata": {},
     "output_type": "execute_result"
    }
   ],
   "source": [
    "title"
   ]
  },
  {
   "cell_type": "code",
   "execution_count": 85,
   "metadata": {},
   "outputs": [
    {
     "data": {
      "text/plain": [
       "1"
      ]
     },
     "execution_count": 85,
     "metadata": {},
     "output_type": "execute_result"
    }
   ],
   "source": [
    "# div 태그에서 클래스명이 ellipsis 이며 rank01인 태그의 아래의 span 태그 아래의 a\n",
    "title = song.select('div.ellipsis.rank01 > span > a')\n",
    "len(title)"
   ]
  },
  {
   "cell_type": "code",
   "execution_count": 86,
   "metadata": {},
   "outputs": [
    {
     "data": {
      "text/plain": [
       "\"롤린 (Rollin')\""
      ]
     },
     "execution_count": 86,
     "metadata": {},
     "output_type": "execute_result"
    }
   ],
   "source": [
    "# 곡 제목 가져오기\n",
    "song.select('div.ellipsis.rank01 > span > a')[0].text"
   ]
  },
  {
   "cell_type": "code",
   "execution_count": 87,
   "metadata": {},
   "outputs": [
    {
     "data": {
      "text/plain": [
       "'브레이브걸스'"
      ]
     },
     "execution_count": 87,
     "metadata": {},
     "output_type": "execute_result"
    }
   ],
   "source": [
    "# 가수 찾기\n",
    "song.select('div.ellipsis.rank02 > a')[0].text"
   ]
  },
  {
   "cell_type": "code",
   "execution_count": 88,
   "metadata": {},
   "outputs": [
    {
     "name": "stdout",
     "output_type": "stream",
     "text": [
      "롤린 (Rollin') | 브레이브걸스\n",
      "Celebrity | 아이유\n",
      "On The Ground | 로제 (ROSÉ)\n",
      "LOVE DAY (2021) (바른연애 길잡이 X 양요섭, 정은지) | 양요섭\n",
      "Dynamite | 방탄소년단\n",
      "밤하늘의 별을(2020) | 경서\n",
      "밝게 빛나는 별이 되어 비춰줄게 | 송이한\n",
      "내 손을 잡아 | 아이유\n",
      "잠이 오질 않네요 | 장범준\n",
      "VVS (Feat. JUSTHIS) (Prod. GroovyRoom) | 미란이 (Mirani)\n",
      "Gone | 로제 (ROSÉ)\n",
      "Lovesick Girls | BLACKPINK\n",
      "취기를 빌려 (취향저격 그녀 X 산들) | 산들\n",
      "이 밤을 빌려 말해요 (바른연애 길잡이 X 10CM) | 10CM\n",
      "나랑 같이 걸을래 (바른연애 길잡이 X 적재) | 적재\n",
      "에잇(Prod.&Feat. SUGA of BTS) | 아이유\n",
      "Blueming | 아이유\n",
      "흔들리는 꽃들 속에서 네 샴푸향이 느껴진거야 | 장범준\n",
      "그날에 나는 맘이 편했을까 | 이예준\n",
      "오래된 노래 | 스탠딩 에그\n",
      "어떻게 이별까지 사랑하겠어, 널 사랑하는 거지 | AKMU (악동뮤지션)\n",
      "힘든 건 사랑이 아니다 | 임창정\n",
      "Savage Love (Laxed - Siren Beat) (BTS Remix) | Jawsh 685\n",
      "사실 나는 (Feat.전건호) | 경서예지\n",
      "고백 (바른연애 길잡이 X 허각) | 허각\n",
      "Life Goes On | 방탄소년단\n",
      "METEOR | 창모 (CHANGMO)\n",
      "모든 날, 모든 순간 (Every day, Every Moment) | 폴킴\n",
      "Dolphin | 오마이걸 (OH MY GIRL)\n",
      "내 마음이 움찔했던 순간 (취향저격 그녀 X 규현) | 규현 (KYUHYUN)\n",
      "어떻게 지내 (Prod. By VAN.C) | 오반 (OVAN)\n",
      "2002 | Anne-Marie\n",
      "그 한마디 (바른연애 길잡이 X 이하이) | 이하이\n",
      "봄날 | 방탄소년단\n",
      "How You Like That | BLACKPINK\n",
      "함께 했는데 이별은 나 혼자인 거야 | 소정 (레이디스 코드)\n",
      "아로하 | 조정석\n",
      "늦은 밤 너의 집 앞 골목길에서 | 노을\n",
      "추억은 만남보다 이별에 남아 | 정동하\n",
      "오늘도 빛나는 너에게 (To You My Light) (Feat.이라온) | 마크툽 (MAKTUB)\n",
      "운전만해 (We Ride) | 브레이브걸스\n",
      "너의 번호를 누르고 (Prod. 영화처럼) | #안녕\n",
      "작은 것들을 위한 시 (Boy With Luv) (Feat. Halsey) | 방탄소년단\n",
      "I'm Not Cool | 현아\n",
      "혼술하고 싶은 밤 | 벤\n",
      "어떤X (What Type of X) | 제시 (Jessi)\n",
      "12:45 (Stripped) | Etham\n",
      "마음을 드려요 | 아이유\n",
      "내일이 오면 (Feat. 기리보이, BIG Naughty (서동현)) | 릴보이 (lIlBOI)\n",
      "When We Disco (Duet with 선미) | 박진영\n",
      "Memories | Maroon 5\n",
      "되풀이 | 임창정\n",
      "살짝 설렜어 (Nonstop) | 오마이걸 (OH MY GIRL)\n",
      "서면역에서 | 순순희\n",
      "시작 | 가호 (Gaho)\n",
      "너를 만나 | 폴킴\n",
      "Dance Monkey | Tones And I\n",
      "이제 나만 믿어요 | 임영웅\n",
      "술 한잔 해요 | 경서 (경서예지)\n",
      "우리 왜 헤어져야 해 | 신예영\n",
      "이렇게 좋아해 본 적이 없어요 | CHEEZE (치즈)\n",
      "Love poem | 아이유\n",
      "Don't Call Me | SHINee (샤이니)\n",
      "꼬리 (TAIL) | 선미\n",
      "우린 어쩌다 헤어진 걸까 | 허각\n",
      "거짓말이라도 해서 널 보고싶어 | 백지영\n",
      "안녕 | 폴킴\n",
      "Downtown Baby | 블루 (BLOO)\n",
      "마리아 (Maria) | 화사 (Hwa Sa)\n",
      "Paris In The Rain | Lauv\n",
      "사랑은 지날수록 더욱 선명하게 남아 | 전상근\n",
      "딩가딩가 (Dingga) | 마마무 (Mamamoo)\n",
      "서른 밤째 (바른연애 길잡이 X 윤하 (YOUNHA)) | 윤하 (YOUNHA)\n",
      "Don't Start Now | Dua Lipa\n",
      "Panorama | IZ*ONE (아이즈원)\n",
      "I CAN’T STOP ME | TWICE (트와이스)\n",
      "좋은 이별이 있을 리가 없잖아 (Feat. 조현아 Of 어반자카파) | MC몽\n",
      "비로소 너에게 도착했다 (Full Bloom) | 마크툽 (MAKTUB)\n",
      "홀로 | 이하이\n",
      "멜로디 | ASH ISLAND\n",
      "화(火花) | (여자)아이들\n",
      "소확행 | 임창정\n",
      "Maniac | Conan Gray\n",
      "처음처럼 | 엠씨더맥스 (M.C the MAX)\n",
      "다시 만날까 봐 (Prod.V.O.S) | 이예준\n",
      "아무노래 | 지코 (ZICO)\n",
      "CREDIT (Feat. 염따, 기리보이, Zion.T) | 릴보이 (lIlBOI)\n",
      "눈누난나 (NUNU NANA) | 제시 (Jessi)\n",
      "사랑 못해, 남들 쉽게 다 하는 거 | 먼데이 키즈 (Monday Kiz)\n",
      "Bad Boy | 청하\n",
      "사랑하는 당신께 | 폴킴\n",
      "DON'T TOUCH ME | 환불원정대\n",
      "별을 담은 시 (Ode To The Stars) | 마크툽 (MAKTUB)\n",
      "사랑하게 될 줄 알았어 | 전미도\n",
      "Peaches (Feat. Daniel Caesar & Giveon) | Justin Bieber\n",
      "별빛 같은 나의 사랑아 | 임영웅\n",
      "What Do I Call You | 태연 (TAEYEON)\n",
      "가을밤에 든 생각 | 잔나비\n",
      "한잔이면 지워질까 | 황인욱\n",
      "시공간 | 기리보이\n"
     ]
    }
   ],
   "source": [
    "# 멜론 50위 노래순위 정보 가져오기\n",
    "for song in songs:                                        \n",
    "    title = song.select('div.ellipsis.rank01 > span > a')[0].text\n",
    "    singer = song.select ('div.ellipsis.rank02 > a')[0].text  \n",
    "    print(title, singer, sep = ' | ')"
   ]
  },
  {
   "cell_type": "code",
   "execution_count": 90,
   "metadata": {},
   "outputs": [
    {
     "name": "stdout",
     "output_type": "stream",
     "text": [
      "롤린 (Rollin') | 브레이브걸스\n",
      "Celebrity | 아이유\n",
      "On The Ground | 로제 (ROSÉ)\n",
      "LOVE DAY (2021) (바른연애 길잡이 X 양요섭, 정은지) | 양요섭\n",
      "Dynamite | 방탄소년단\n",
      "밤하늘의 별을(2020) | 경서\n",
      "밝게 빛나는 별이 되어 비춰줄게 | 송이한\n",
      "내 손을 잡아 | 아이유\n",
      "잠이 오질 않네요 | 장범준\n",
      "VVS (Feat. JUSTHIS) (Prod. GroovyRoom) | 미란이 (Mirani)\n",
      "Gone | 로제 (ROSÉ)\n",
      "Lovesick Girls | BLACKPINK\n",
      "취기를 빌려 (취향저격 그녀 X 산들) | 산들\n",
      "이 밤을 빌려 말해요 (바른연애 길잡이 X 10CM) | 10CM\n",
      "나랑 같이 걸을래 (바른연애 길잡이 X 적재) | 적재\n",
      "에잇(Prod.&Feat. SUGA of BTS) | 아이유\n",
      "Blueming | 아이유\n",
      "흔들리는 꽃들 속에서 네 샴푸향이 느껴진거야 | 장범준\n",
      "그날에 나는 맘이 편했을까 | 이예준\n",
      "오래된 노래 | 스탠딩 에그\n",
      "어떻게 이별까지 사랑하겠어, 널 사랑하는 거지 | AKMU (악동뮤지션)\n",
      "힘든 건 사랑이 아니다 | 임창정\n",
      "Savage Love (Laxed - Siren Beat) (BTS Remix) | Jawsh 685\n",
      "사실 나는 (Feat.전건호) | 경서예지\n",
      "고백 (바른연애 길잡이 X 허각) | 허각\n",
      "Life Goes On | 방탄소년단\n",
      "METEOR | 창모 (CHANGMO)\n",
      "모든 날, 모든 순간 (Every day, Every Moment) | 폴킴\n",
      "Dolphin | 오마이걸 (OH MY GIRL)\n",
      "내 마음이 움찔했던 순간 (취향저격 그녀 X 규현) | 규현 (KYUHYUN)\n",
      "어떻게 지내 (Prod. By VAN.C) | 오반 (OVAN)\n",
      "2002 | Anne-Marie\n",
      "그 한마디 (바른연애 길잡이 X 이하이) | 이하이\n",
      "봄날 | 방탄소년단\n",
      "How You Like That | BLACKPINK\n",
      "함께 했는데 이별은 나 혼자인 거야 | 소정 (레이디스 코드)\n",
      "아로하 | 조정석\n",
      "늦은 밤 너의 집 앞 골목길에서 | 노을\n",
      "추억은 만남보다 이별에 남아 | 정동하\n",
      "오늘도 빛나는 너에게 (To You My Light) (Feat.이라온) | 마크툽 (MAKTUB)\n",
      "운전만해 (We Ride) | 브레이브걸스\n",
      "너의 번호를 누르고 (Prod. 영화처럼) | #안녕\n",
      "작은 것들을 위한 시 (Boy With Luv) (Feat. Halsey) | 방탄소년단\n",
      "I'm Not Cool | 현아\n",
      "혼술하고 싶은 밤 | 벤\n",
      "어떤X (What Type of X) | 제시 (Jessi)\n",
      "12:45 (Stripped) | Etham\n",
      "마음을 드려요 | 아이유\n",
      "내일이 오면 (Feat. 기리보이, BIG Naughty (서동현)) | 릴보이 (lIlBOI)\n",
      "When We Disco (Duet with 선미) | 박진영\n",
      "Memories | Maroon 5\n",
      "되풀이 | 임창정\n",
      "살짝 설렜어 (Nonstop) | 오마이걸 (OH MY GIRL)\n",
      "서면역에서 | 순순희\n",
      "시작 | 가호 (Gaho)\n",
      "너를 만나 | 폴킴\n",
      "Dance Monkey | Tones And I\n",
      "이제 나만 믿어요 | 임영웅\n",
      "술 한잔 해요 | 경서 (경서예지)\n",
      "우리 왜 헤어져야 해 | 신예영\n",
      "이렇게 좋아해 본 적이 없어요 | CHEEZE (치즈)\n",
      "Love poem | 아이유\n",
      "Don't Call Me | SHINee (샤이니)\n",
      "꼬리 (TAIL) | 선미\n",
      "우린 어쩌다 헤어진 걸까 | 허각\n",
      "거짓말이라도 해서 널 보고싶어 | 백지영\n",
      "안녕 | 폴킴\n",
      "Downtown Baby | 블루 (BLOO)\n",
      "마리아 (Maria) | 화사 (Hwa Sa)\n",
      "Paris In The Rain | Lauv\n",
      "사랑은 지날수록 더욱 선명하게 남아 | 전상근\n",
      "딩가딩가 (Dingga) | 마마무 (Mamamoo)\n",
      "서른 밤째 (바른연애 길잡이 X 윤하 (YOUNHA)) | 윤하 (YOUNHA)\n",
      "Don't Start Now | Dua Lipa\n",
      "Panorama | IZ*ONE (아이즈원)\n",
      "I CAN’T STOP ME | TWICE (트와이스)\n",
      "좋은 이별이 있을 리가 없잖아 (Feat. 조현아 Of 어반자카파) | MC몽\n",
      "비로소 너에게 도착했다 (Full Bloom) | 마크툽 (MAKTUB)\n",
      "홀로 | 이하이\n",
      "멜로디 | ASH ISLAND\n",
      "화(火花) | (여자)아이들\n",
      "소확행 | 임창정\n",
      "Maniac | Conan Gray\n",
      "처음처럼 | 엠씨더맥스 (M.C the MAX)\n",
      "다시 만날까 봐 (Prod.V.O.S) | 이예준\n",
      "아무노래 | 지코 (ZICO)\n",
      "CREDIT (Feat. 염따, 기리보이, Zion.T) | 릴보이 (lIlBOI)\n",
      "눈누난나 (NUNU NANA) | 제시 (Jessi)\n",
      "사랑 못해, 남들 쉽게 다 하는 거 | 먼데이 키즈 (Monday Kiz)\n",
      "Bad Boy | 청하\n",
      "사랑하는 당신께 | 폴킴\n",
      "DON'T TOUCH ME | 환불원정대\n",
      "별을 담은 시 (Ode To The Stars) | 마크툽 (MAKTUB)\n",
      "사랑하게 될 줄 알았어 | 전미도\n",
      "Peaches (Feat. Daniel Caesar & Giveon) | Justin Bieber\n",
      "별빛 같은 나의 사랑아 | 임영웅\n",
      "What Do I Call You | 태연 (TAEYEON)\n",
      "가을밤에 든 생각 | 잔나비\n",
      "한잔이면 지워질까 | 황인욱\n",
      "시공간 | 기리보이\n"
     ]
    }
   ],
   "source": [
    "driver = webdriver.Chrome('c:/playwithdata/chromedriver.exe')     \n",
    "url = 'http://www.melon.com/chart/index.htm'\n",
    "driver.get(url)          \n",
    "html = driver.page_source\n",
    "soup = BeautifulSoup(html, 'html.parser')\n",
    "                               \n",
    "songs = soup.select('tr')[1:]     # 멜론 사이트 개편으로 코드 수정(updated 2020.07.13)\n",
    "for song in songs:                                        \n",
    "    title = song.select('div.ellipsis.rank01 > span > a')[0].text\n",
    "    singer = song.select ('div.ellipsis.rank02 > a')[0].text  \n",
    "    print(title, singer, sep = ' | ')"
   ]
  },
  {
   "cell_type": "markdown",
   "metadata": {},
   "source": [
    "# CSS Selector를 이용하는 방법\n",
    "\n",
    "- driver.find_elements_by_css_selector 사용\n",
    "- Beautifulsoup을 사용하지 않고 태그, 클래스, id, 부모태그 등을 지정할 수 있다\n",
    "- html 문서를 다운로드 하지 않고, 접속한 상태에서 작업을 한다. 따라서 클릭, 입력 등을 할 수 있다\n",
    " - 클릭 입력 후 특정한 페이지가 나타나면 다음 작업을 수행하게 할 수 있다"
   ]
  },
  {
   "cell_type": "code",
   "execution_count": 92,
   "metadata": {},
   "outputs": [
    {
     "name": "stdout",
     "output_type": "stream",
     "text": [
      "롤린 (Rollin') | 브레이브걸스\n",
      "Celebrity | 아이유\n",
      "On The Ground | 로제 (ROSÉ)\n",
      "LOVE DAY (2021) (바른연애 길잡이 X 양요섭, 정은지) | 양요섭\n",
      "Dynamite | 방탄소년단\n",
      "밤하늘의 별을(2020) | 경서\n",
      "밝게 빛나는 별이 되어 비춰줄게 | 송이한\n",
      "내 손을 잡아 | 아이유\n",
      "잠이 오질 않네요 | 장범준\n",
      "VVS (Feat. JUSTHIS) (Prod. GroovyRoom) | 미란이 (Mirani)\n",
      "Gone | 로제 (ROSÉ)\n",
      "Lovesick Girls | BLACKPINK\n",
      "취기를 빌려 (취향저격 그녀 X 산들) | 산들\n",
      "이 밤을 빌려 말해요 (바른연애 길잡이 X 10CM) | 10CM\n",
      "나랑 같이 걸을래 (바른연애 길잡이 X 적재) | 적재\n",
      "에잇(Prod.&Feat. SUGA of BTS) | 아이유\n",
      "Blueming | 아이유\n",
      "흔들리는 꽃들 속에서 네 샴푸향이 느껴진거야 | 장범준\n",
      "그날에 나는 맘이 편했을까 | 이예준\n",
      "오래된 노래 | 스탠딩 에그\n",
      "어떻게 이별까지 사랑하겠어, 널 사랑하는 거지 | AKMU (악동뮤지션)\n",
      "힘든 건 사랑이 아니다 | 임창정\n",
      "Savage Love (Laxed - Siren Beat) (BTS Remix) | Jawsh 685\n",
      "사실 나는 (Feat.전건호) | 경서예지\n",
      "고백 (바른연애 길잡이 X 허각) | 허각\n",
      "Life Goes On | 방탄소년단\n",
      "METEOR | 창모 (CHANGMO)\n",
      "모든 날, 모든 순간 (Every day, Every Moment) | 폴킴\n",
      "Dolphin | 오마이걸 (OH MY GIRL)\n",
      "내 마음이 움찔했던 순간 (취향저격 그녀 X 규현) | 규현 (KYUHYUN)\n",
      "어떻게 지내 (Prod. By VAN.C) | 오반 (OVAN)\n",
      "2002 | Anne-Marie\n",
      "그 한마디 (바른연애 길잡이 X 이하이) | 이하이\n",
      "봄날 | 방탄소년단\n",
      "How You Like That | BLACKPINK\n",
      "함께 했는데 이별은 나 혼자인 거야 | 소정 (레이디스 코드)\n",
      "아로하 | 조정석\n",
      "늦은 밤 너의 집 앞 골목길에서 | 노을\n",
      "추억은 만남보다 이별에 남아 | 정동하\n",
      "오늘도 빛나는 너에게 (To You My Light) (Feat.이라온) | 마크툽 (MAKTUB)\n",
      "운전만해 (We Ride) | 브레이브걸스\n",
      "너의 번호를 누르고 (Prod. 영화처럼) | #안녕\n",
      "작은 것들을 위한 시 (Boy With Luv) (Feat. Halsey) | 방탄소년단\n",
      "I'm Not Cool | 현아\n",
      "혼술하고 싶은 밤 | 벤\n",
      "어떤X (What Type of X) | 제시 (Jessi)\n",
      "12:45 (Stripped) | Etham\n",
      "마음을 드려요 | 아이유\n",
      "내일이 오면 (Feat. 기리보이, BIG Naughty (서동현)) | 릴보이 (lIlBOI)\n",
      "When We Disco (Duet with 선미) | 박진영\n",
      "Memories | Maroon 5\n",
      "되풀이 | 임창정\n",
      "살짝 설렜어 (Nonstop) | 오마이걸 (OH MY GIRL)\n",
      "서면역에서 | 순순희\n",
      "시작 | 가호 (Gaho)\n",
      "너를 만나 | 폴킴\n",
      "Dance Monkey | Tones And I\n",
      "이제 나만 믿어요 | 임영웅\n",
      "술 한잔 해요 | 경서 (경서예지)\n",
      "우리 왜 헤어져야 해 | 신예영\n",
      "이렇게 좋아해 본 적이 없어요 | CHEEZE (치즈)\n",
      "Love poem | 아이유\n",
      "Don't Call Me | SHINee (샤이니)\n",
      "꼬리 (TAIL) | 선미\n",
      "우린 어쩌다 헤어진 걸까 | 허각\n",
      "거짓말이라도 해서 널 보고싶어 | 백지영\n",
      "안녕 | 폴킴\n",
      "Downtown Baby | 블루 (BLOO)\n",
      "마리아 (Maria) | 화사 (Hwa Sa)\n",
      "Paris In The Rain | Lauv\n",
      "사랑은 지날수록 더욱 선명하게 남아 | 전상근\n",
      "딩가딩가 (Dingga) | 마마무 (Mamamoo)\n",
      "서른 밤째 (바른연애 길잡이 X 윤하 (YOUNHA)) | 윤하 (YOUNHA)\n",
      "Don't Start Now | Dua Lipa\n",
      "Panorama | IZ*ONE (아이즈원)\n",
      "I CAN’T STOP ME | TWICE (트와이스)\n",
      "좋은 이별이 있을 리가 없잖아 (Feat. 조현아 Of 어반자카파) | MC몽\n",
      "비로소 너에게 도착했다 (Full Bloom) | 마크툽 (MAKTUB)\n",
      "홀로 | 이하이\n",
      "멜로디 | ASH ISLAND\n",
      "화(火花) | (여자)아이들\n",
      "소확행 | 임창정\n",
      "Maniac | Conan Gray\n",
      "처음처럼 | 엠씨더맥스 (M.C the MAX)\n",
      "다시 만날까 봐 (Prod.V.O.S) | 이예준\n",
      "아무노래 | 지코 (ZICO)\n",
      "CREDIT (Feat. 염따, 기리보이, Zion.T) | 릴보이 (lIlBOI)\n",
      "눈누난나 (NUNU NANA) | 제시 (Jessi)\n",
      "사랑 못해, 남들 쉽게 다 하는 거 | 먼데이 키즈 (Monday Kiz)\n",
      "Bad Boy | 청하\n",
      "사랑하는 당신께 | 폴킴\n",
      "DON'T TOUCH ME | 환불원정대\n",
      "별을 담은 시 (Ode To The Stars) | 마크툽 (MAKTUB)\n",
      "사랑하게 될 줄 알았어 | 전미도\n",
      "Peaches (Feat. Daniel Caesar & Giveon) | Justin Bieber\n",
      "별빛 같은 나의 사랑아 | 임영웅\n",
      "What Do I Call You | 태연 (TAEYEON)\n",
      "가을밤에 든 생각 | 잔나비\n",
      "한잔이면 지워질까 | 황인욱\n",
      "시공간 | 기리보이\n"
     ]
    }
   ],
   "source": [
    "# driver = webdriver.Chrome('c:/playwithdata/chromedriver.exe')  \n",
    "driver = webdriver.Chrome('/Users/hwa-kim/Dropbox/down/chromedriver')  \n",
    "url = 'http://www.melon.com/chart/index.htm'\n",
    "driver.get(url)          \n",
    "                                \n",
    "songs = driver.find_elements_by_css_selector('tr')[1:]     # 멜론 사이트 개편으로 코드 수정(updated 2020.07.13)\n",
    "for song in songs:                                        \n",
    "    title = song.find_elements_by_css_selector('div.ellipsis.rank01 > span > a')[0].text\n",
    "    singer = song.find_elements_by_css_selector('div.ellipsis.rank02 > a')[0].text  \n",
    "    print(title, singer, sep = ' | ')"
   ]
  },
  {
   "cell_type": "code",
   "execution_count": null,
   "metadata": {},
   "outputs": [],
   "source": []
  }
 ],
 "metadata": {
  "anaconda-cloud": {},
  "kernelspec": {
   "display_name": "Python 3",
   "language": "python",
   "name": "python3"
  },
  "language_info": {
   "codemirror_mode": {
    "name": "ipython",
    "version": 3
   },
   "file_extension": ".py",
   "mimetype": "text/x-python",
   "name": "python",
   "nbconvert_exporter": "python",
   "pygments_lexer": "ipython3",
   "version": "3.8.5"
  },
  "toc": {
   "base_numbering": 1,
   "nav_menu": {},
   "number_sections": false,
   "sideBar": true,
   "skip_h1_title": false,
   "title_cell": "Table of Contents",
   "title_sidebar": "Contents",
   "toc_cell": false,
   "toc_position": {},
   "toc_section_display": true,
   "toc_window_display": true
  }
 },
 "nbformat": 4,
 "nbformat_minor": 1
}
