{
 "cells": [
  {
   "cell_type": "markdown",
   "metadata": {
    "id": "JIe7bYJMtrfN"
   },
   "source": [
    "# 신경망 기초\n",
    "\n",
    "- MLP, CNN 소개\n",
    "- MNIST 이미지 인식\n",
    "- colab에서 실행 권장 (PC에서는 텐서플로우/케라스 등을 설치해야 하고 속도가 느림)"
   ]
  },
  {
   "cell_type": "markdown",
   "metadata": {},
   "source": [
    "# Multilayer Perceptron (MLP)\n",
    "\n",
    "- 선형 모델을 확대하여 선형 모델의 성능을 개선함\n",
    "- 입력층과 출력층 사이에 다수의 은닉(hidden)층을 둔다\n",
    "- 층(layer) 사이는 전결합망 (fully connected layer) 계수들로 연결한다 (FC라고도 부른다)\n",
    " - 이를 밀집망(Dense)이라고도 부른다\n",
    "- MLP는 선형모델보다는 성능이 개선되었으나, 이미지 인식 등에서는 기대한만큼 성능이 나오지 않음\n",
    "- 뒤에서 설명할 CNN이 이미지 인식의 성능을 달성함\n",
    "- MLP 구조 (입력으로 \"1차원 벡터\" 형식만 사용한다)\n",
    "\n",
    "<img src=\"https://github.com/StillWork/image/blob/main/%E1%84%89%E1%85%B3%E1%84%8F%E1%85%B3%E1%84%85%E1%85%B5%E1%86%AB%E1%84%89%E1%85%A3%E1%86%BA%202021-03-13%20%E1%84%8B%E1%85%A9%E1%84%92%E1%85%AE%2010.03.53.png?raw=1\" align='left'>"
   ]
  },
  {
   "cell_type": "markdown",
   "metadata": {},
   "source": [
    "## 활성화 함수 (Activation Function)\n",
    "- 각 노드의 출력단에 활성화 함수를 적용했다\n",
    "- \"선형\" 모델과 달리 \"비선형\" 동작을 추가함\n",
    "\n",
    "\n",
    "<img src=\"https://github.com/StillWork/image/blob/main/%E1%84%89%E1%85%B3%E1%84%8F%E1%85%B3%E1%84%85%E1%85%B5%E1%86%AB%E1%84%89%E1%85%A3%E1%86%BA%202021-03-13%20%E1%84%8B%E1%85%A9%E1%84%92%E1%85%AE%2010.48.08.png?raw=1\" align='left'  width=400>\n",
    "\n"
   ]
  },
  {
   "cell_type": "markdown",
   "metadata": {},
   "source": [
    "- MLP는 회귀 및 분류에 모두 사용 가능 (마지막 층 활성화 함수로 구분된다)\n",
    "- 분류를 위해서는 softmax를 사용, 회귀를 위해서는 출력값을 그대로 사용  \n",
    "- 입력 및 은닉층에서는 ReLU 를 주로 사용하고 시그모이드와 tanh도 필요시 사용\n",
    "\n",
    "\n",
    "<img src=\"https://github.com/StillWork/image/blob/main/%E1%84%89%E1%85%B3%E1%84%8F%E1%85%B3%E1%84%85%E1%85%B5%E1%86%AB%E1%84%89%E1%85%A3%E1%86%BA%202021-03-13%20%E1%84%8B%E1%85%A9%E1%84%92%E1%85%AE%2010.05.02.png?raw=1\" align='left'  width=400>"
   ]
  },
  {
   "cell_type": "markdown",
   "metadata": {},
   "source": [
    "## 신경망 학습\n",
    "- 신경망도 경사하강법을 사용하나, 지역 최소값에 머무는 문제를 해결하기 위해서 가속도 알고리즘을 사용한다 (adam, rmsprop 등)\n",
    "- 여러 계층을 통해서 역방향으로 학습을 수행해야 하는데(계수 업데이트) 이를 역전파 (back propagation)라고 한다\n",
    "- 가속도 알고리즘 https://goo.gl/Pdu4uW\n",
    "- 가속도 알고리즘\n",
    "https://medium.com/@kaitotally/adam-the-birthchild-of-adagrad-and-rmsprop-b5308b24b9cd\n",
    "\n",
    "<img src=\"https://github.com/StillWork/image/blob/main/%E1%84%89%E1%85%B3%E1%84%8F%E1%85%B3%E1%84%85%E1%85%B5%E1%86%AB%E1%84%89%E1%85%A3%E1%86%BA%202021-03-13%20%E1%84%8B%E1%85%A9%E1%84%92%E1%85%AE%2010.39.07.png?raw=1\" align='left' width=400>"
   ]
  },
  {
   "cell_type": "markdown",
   "metadata": {},
   "source": [
    "## 플레이그라운드 (MLP 실습)\n",
    "- http://playground.tensorflow.org"
   ]
  },
  {
   "cell_type": "code",
   "execution_count": null,
   "metadata": {
    "id": "racEBTb_ZzV7"
   },
   "outputs": [],
   "source": [
    "import numpy as np\n",
    "import matplotlib.pyplot as plt\n",
    "%matplotlib inline\n",
    "%config InlineBackend.figure_format = 'retina'"
   ]
  },
  {
   "cell_type": "code",
   "execution_count": null,
   "metadata": {
    "id": "kCgQFiLZZzV8"
   },
   "outputs": [],
   "source": [
    "# !pip install tensorflow"
   ]
  },
  {
   "cell_type": "code",
   "execution_count": null,
   "metadata": {
    "id": "ShCTJ-oqZzV8"
   },
   "outputs": [],
   "source": [
    "# !pip install keras"
   ]
  },
  {
   "cell_type": "code",
   "execution_count": null,
   "metadata": {
    "id": "-AQRftuEqGqx"
   },
   "outputs": [],
   "source": [
    "from keras.datasets import mnist\n",
    "from keras.utils import to_categorical\n",
    "from keras import layers\n",
    "from keras import models"
   ]
  },
  {
   "cell_type": "markdown",
   "metadata": {
    "id": "JUaSP2MbtRiS"
   },
   "source": [
    "## MNIST 이미지 확인"
   ]
  },
  {
   "cell_type": "code",
   "execution_count": null,
   "metadata": {
    "colab": {
     "base_uri": "https://localhost:8080/",
     "height": 318
    },
    "id": "vRUwM8gvqToI",
    "outputId": "2e19368a-270c-457b-abb1-7e7dd71d83dc"
   },
   "outputs": [
    {
     "name": "stdout",
     "output_type": "stream",
     "text": [
      "Downloading data from https://storage.googleapis.com/tensorflow/tf-keras-datasets/mnist.npz\n",
      "11493376/11490434 [==============================] - 0s 0us/step\n"
     ]
    },
    {
     "data": {
      "text/plain": [
       "<function matplotlib.pyplot.show>"
      ]
     },
     "execution_count": 3,
     "metadata": {
      "tags": []
     },
     "output_type": "execute_result"
    },
    {
     "data": {
      "image/png": "[encoded data removed]",
      "text/plain": [
       "<Figure size 432x288 with 1 Axes>"
      ]
     },
     "metadata": {
      "image/png": {
       "height": 248,
       "width": 251
      },
      "needs_background": "light",
      "tags": []
     },
     "output_type": "display_data"
    }
   ],
   "source": [
    "(train_images, train_labels), (test_images, test_labels) = mnist.load_data()\n",
    "plt.imshow(train_images[0], cmap=plt.cm.binary)\n",
    "plt.show"
   ]
  },
  {
   "cell_type": "code",
   "execution_count": null,
   "metadata": {
    "colab": {
     "base_uri": "https://localhost:8080/",
     "height": 283
    },
    "id": "p1e-iiZqZzV-",
    "outputId": "b702523c-7013-46fe-8bb3-3959fa6167a5"
   },
   "outputs": [
    {
     "data": {
      "text/plain": [
       "<matplotlib.image.AxesImage at 0x7f9dd90cde50>"
      ]
     },
     "execution_count": 6,
     "metadata": {
      "tags": []
     },
     "output_type": "execute_result"
    },
    {
     "data": {
      "image/png": "[encoded data removed]",
      "text/plain": [
       "<Figure size 432x288 with 1 Axes>"
      ]
     },
     "metadata": {
      "image/png": {
       "height": 248,
       "width": 251
      },
      "needs_background": "light",
      "tags": []
     },
     "output_type": "display_data"
    }
   ],
   "source": [
    "plt.imshow(train_images[2], cmap=plt.cm.binary)"
   ]
  },
  {
   "cell_type": "code",
   "execution_count": null,
   "metadata": {
    "colab": {
     "base_uri": "https://localhost:8080/"
    },
    "id": "vTWfRgN5ZzV_",
    "outputId": "a87cd47f-cc0b-4b72-e33f-f21579ce38c9"
   },
   "outputs": [
    {
     "data": {
      "text/plain": [
       "(60000, 28, 28)"
      ]
     },
     "execution_count": 7,
     "metadata": {
      "tags": []
     },
     "output_type": "execute_result"
    }
   ],
   "source": [
    "train_images.shape"
   ]
  },
  {
   "cell_type": "code",
   "execution_count": null,
   "metadata": {
    "colab": {
     "base_uri": "https://localhost:8080/"
    },
    "id": "C_a3kWryZzV_",
    "outputId": "eebc32db-c20f-427e-afc0-a22483a98c61"
   },
   "outputs": [
    {
     "data": {
      "text/plain": [
       "array([5, 0, 4], dtype=uint8)"
      ]
     },
     "execution_count": 8,
     "metadata": {
      "tags": []
     },
     "output_type": "execute_result"
    }
   ],
   "source": [
    "train_labels[:3]"
   ]
  },
  {
   "cell_type": "markdown",
   "metadata": {
    "id": "tB8wYyfEZzV_"
   },
   "source": [
    "### MLP 입력 전처리\n",
    "- MLP는 1차원 텐서 즉 벡터형태만 입력으로 사용할 수 있다\n",
    "- 목적 변수는 원 핫 인코딩을 한다. to_categorical를 사용한다"
   ]
  },
  {
   "cell_type": "code",
   "execution_count": null,
   "metadata": {
    "id": "EafiutHbqni_"
   },
   "outputs": [],
   "source": [
    "train_images_flat = train_images.reshape(60000, 784)\n",
    "train_images_flat = train_images_flat.astype('float32')/255\n",
    "\n",
    "test_images_flat = test_images.reshape(10000, 28*28)\n",
    "test_images_flat = test_images_flat.astype('float32')/255\n",
    "\n",
    "train_labels_cat = to_categorical(train_labels)\n",
    "test_labels_cat = to_categorical(test_labels)"
   ]
  },
  {
   "cell_type": "code",
   "execution_count": null,
   "metadata": {
    "colab": {
     "base_uri": "https://localhost:8080/"
    },
    "id": "LNqZlZxqZzWA",
    "outputId": "6377f49c-e853-4b06-e848-5077e281394f"
   },
   "outputs": [
    {
     "data": {
      "text/plain": [
       "array([[0., 0., 0., 0., 0., 1., 0., 0., 0., 0.],\n",
       "       [1., 0., 0., 0., 0., 0., 0., 0., 0., 0.],\n",
       "       [0., 0., 0., 0., 1., 0., 0., 0., 0., 0.]], dtype=float32)"
      ]
     },
     "execution_count": 10,
     "metadata": {
      "tags": []
     },
     "output_type": "execute_result"
    }
   ],
   "source": [
    "train_labels_cat[:3]"
   ]
  },
  {
   "cell_type": "markdown",
   "metadata": {
    "id": "Czew2EJub6Ja"
   },
   "source": [
    "## MLP 모델"
   ]
  },
  {
   "cell_type": "code",
   "execution_count": null,
   "metadata": {
    "colab": {
     "base_uri": "https://localhost:8080/"
    },
    "id": "4tlDJdu8b5XD",
    "outputId": "ee8ad0c1-db13-449c-c377-599a6a60a07a"
   },
   "outputs": [
    {
     "name": "stdout",
     "output_type": "stream",
     "text": [
      "Model: \"sequential_3\"\n",
      "_________________________________________________________________\n",
      "Layer (type)                 Output Shape              Param #   \n",
      "=================================================================\n",
      "dense_7 (Dense)              (None, 32)                25120     \n",
      "_________________________________________________________________\n",
      "dense_8 (Dense)              (None, 10)                330       \n",
      "=================================================================\n",
      "Total params: 25,450\n",
      "Trainable params: 25,450\n",
      "Non-trainable params: 0\n",
      "_________________________________________________________________\n"
     ]
    }
   ],
   "source": [
    "model = models.Sequential()\n",
    "model.add(layers.Dense(32, activation='relu', input_shape = (784,)))\n",
    "model.add(layers.Dense(10, activation='softmax'))\n",
    "model.summary()"
   ]
  },
  {
   "cell_type": "code",
   "execution_count": null,
   "metadata": {
    "id": "jiv81CMBcf88"
   },
   "outputs": [],
   "source": [
    "model.compile(optimizer= 'rmsprop',\n",
    "             loss = 'categorical_crossentropy',\n",
    "             metrics = ['accuracy'])"
   ]
  },
  {
   "cell_type": "code",
   "execution_count": null,
   "metadata": {
    "colab": {
     "base_uri": "https://localhost:8080/"
    },
    "id": "oV47F7rsb5EY",
    "outputId": "fb6c3ccb-24dd-4d8e-c29f-4ff72744f07d"
   },
   "outputs": [
    {
     "name": "stdout",
     "output_type": "stream",
     "text": [
      "Epoch 1/3\n",
      "2000/2000 [==============================] - 4s 2ms/step - loss: 0.5573 - accuracy: 0.8489\n",
      "Epoch 2/3\n",
      "2000/2000 [==============================] - 4s 2ms/step - loss: 0.1955 - accuracy: 0.9439\n",
      "Epoch 3/3\n",
      "2000/2000 [==============================] - 4s 2ms/step - loss: 0.1620 - accuracy: 0.9532\n"
     ]
    },
    {
     "data": {
      "text/plain": [
       "<tensorflow.python.keras.callbacks.History at 0x7f9d727df510>"
      ]
     },
     "execution_count": 22,
     "metadata": {
      "tags": []
     },
     "output_type": "execute_result"
    }
   ],
   "source": [
    "model.fit(train_images_flat, train_labels_cat, epochs=3, batch_size=30)"
   ]
  },
  {
   "cell_type": "code",
   "execution_count": null,
   "metadata": {
    "colab": {
     "base_uri": "https://localhost:8080/"
    },
    "id": "JWGwyDRBdNqL",
    "outputId": "36dfd4e5-62f7-4d51-a3d5-e34a083ea431"
   },
   "outputs": [
    {
     "name": "stdout",
     "output_type": "stream",
     "text": [
      "313/313 [==============================] - 1s 2ms/step - loss: 0.1440 - accuracy: 0.9579\n",
      "test_acc =  0.9578999876976013\n"
     ]
    }
   ],
   "source": [
    "test_loss, test_acc = model.evaluate(test_images_flat, test_labels_cat)\n",
    "print('test_acc = ',test_acc)"
   ]
  },
  {
   "cell_type": "markdown",
   "metadata": {},
   "source": [
    "# CNN\n",
    "\n",
    "- CNN 개념\n",
    "\n",
    "<img src=\"https://github.com/StillWork/image/blob/main/%E1%84%89%E1%85%B3%E1%84%8F%E1%85%B3%E1%84%85%E1%85%B5%E1%86%AB%E1%84%89%E1%85%A3%E1%86%BA%202021-03-13%20%E1%84%8B%E1%85%A9%E1%84%92%E1%85%AE%2011.42.19.png?raw=1\" align='left'  width=300>\n",
    "\n",
    ">\n",
    "\n",
    "<img src=\"https://github.com/StillWork/image/blob/main/%E1%84%89%E1%85%B3%E1%84%8F%E1%85%B3%E1%84%85%E1%85%B5%E1%86%AB%E1%84%89%E1%85%A3%E1%86%BA%202021-03-13%20%E1%84%8B%E1%85%A9%E1%84%92%E1%85%AE%2011.43.31.png?raw=1\" align='left'  width=400>"
   ]
  },
  {
   "cell_type": "markdown",
   "metadata": {},
   "source": [
    "## CNN 동작\n",
    "- 이미지 필터링 https://setosa.io/ev/image-kernels/\n",
    "- 컨볼류션 동작 (주소 뒤에 '.' 추가) https://cdn-images-1.medium.com/max/1600/0*iqNdZWyNeCr5tCkc.\n",
    "- 커널 depth https://cdn-images-1.medium.com/max/1600/1*_34EtrgYk6cQxlJ2br51HQ.gif\n",
    "- CNN 개념 유튜브 https://www.youtube.com/watch?v=9Cu2UfNO-gw\n",
    "\n",
    "### max pooling\n",
    "\n",
    "<img src=\"https://github.com/StillWork/image/blob/main/%E1%84%89%E1%85%B3%E1%84%8F%E1%85%B3%E1%84%85%E1%85%B5%E1%86%AB%E1%84%89%E1%85%A3%E1%86%BA%202021-03-13%20%E1%84%8B%E1%85%A9%E1%84%92%E1%85%AE%2011.27.14.png?raw=1\" align='left'  width=300>"
   ]
  },
  {
   "cell_type": "markdown",
   "metadata": {},
   "source": [
    "### MNIST 인식 모델\n",
    "\n",
    "<img src=\"https://github.com/StillWork/image/blob/main/%E1%84%89%E1%85%B3%E1%84%8F%E1%85%B3%E1%84%85%E1%85%B5%E1%86%AB%E1%84%89%E1%85%A3%E1%86%BA%202021-03-13%20%E1%84%8B%E1%85%A9%E1%84%92%E1%85%AE%2011.09.17.png?raw=1\" align='left'>"
   ]
  },
  {
   "cell_type": "markdown",
   "metadata": {},
   "source": [
    "##  사물 구분\n",
    "<img src=\"https://github.com/StillWork/image/blob/main/%E1%84%89%E1%85%B3%E1%84%8F%E1%85%B3%E1%84%85%E1%85%B5%E1%86%AB%E1%84%89%E1%85%A3%E1%86%BA%202021-03-13%20%E1%84%8B%E1%85%A9%E1%84%92%E1%85%AE%2011.43.00.png?raw=1\" align='left'  width=500>\n",
    "\n",
    "\n",
    "<img src=\"https://github.com/StillWork/image/blob/main/%E1%84%89%E1%85%B3%E1%84%8F%E1%85%B3%E1%84%85%E1%85%B5%E1%86%AB%E1%84%89%E1%85%A3%E1%86%BA%202021-03-13%20%E1%84%8B%E1%85%A9%E1%84%92%E1%85%AE%2011.44.02.png?raw=1\" align='left'>"
   ]
  },
  {
   "cell_type": "markdown",
   "metadata": {
    "id": "44tLYKCwtYc-"
   },
   "source": [
    "### 텐서 차원의 의미"
   ]
  },
  {
   "cell_type": "markdown",
   "metadata": {},
   "source": [
    "- 딥러닝 모델에서 텐서 axis의 의미 약속\n",
    "> [#-samples, shape-of-a-sample, #-features]\n",
    "\n",
    "- 예: 데이터가 200 장의 컬러 이미지이고, 각 이미지가 (244, 244) 크기의 픽셀로 구성되며, 각 픽셀이 3원색으로 구성되어 있다면\n",
    "> X.shape => (200, 244, 244, 3)\n"
   ]
  },
  {
   "cell_type": "markdown",
   "metadata": {},
   "source": [
    "## CNN 모델 구현"
   ]
  },
  {
   "cell_type": "code",
   "execution_count": null,
   "metadata": {
    "id": "-uSV7hakZzWC"
   },
   "outputs": [],
   "source": [
    "train_images_cnn = train_images.reshape(60000,28,28,1)\n",
    "test_images_cnn = test_images.reshape(10000,28,28,1)"
   ]
  },
  {
   "cell_type": "code",
   "execution_count": 3,
   "metadata": {
    "colab": {
     "base_uri": "https://localhost:8080/"
    },
    "id": "ZF7JkSQvrYAj",
    "outputId": "aa3b9d0b-1719-4656-e87a-79d82548a6cc"
   },
   "outputs": [
    {
     "name": "stdout",
     "output_type": "stream",
     "text": [
      "Model: \"sequential_2\"\n",
      "_________________________________________________________________\n",
      "Layer (type)                 Output Shape              Param #   \n",
      "=================================================================\n",
      "conv2d_4 (Conv2D)            (None, 28, 28, 32)        320       \n",
      "_________________________________________________________________\n",
      "max_pooling2d_3 (MaxPooling2 (None, 14, 14, 32)        0         \n",
      "_________________________________________________________________\n",
      "conv2d_5 (Conv2D)            (None, 14, 14, 20)        5780      \n",
      "_________________________________________________________________\n",
      "max_pooling2d_4 (MaxPooling2 (None, 7, 7, 20)          0         \n",
      "_________________________________________________________________\n",
      "conv2d_6 (Conv2D)            (None, 7, 7, 10)          1810      \n",
      "_________________________________________________________________\n",
      "flatten_2 (Flatten)          (None, 490)               0         \n",
      "_________________________________________________________________\n",
      "dense_2 (Dense)              (None, 10)                4910      \n",
      "=================================================================\n",
      "Total params: 12,820\n",
      "Trainable params: 12,820\n",
      "Non-trainable params: 0\n",
      "_________________________________________________________________\n"
     ]
    }
   ],
   "source": [
    "from keras import layers\n",
    "from keras import models\n",
    "\n",
    "model = models.Sequential()\n",
    "model.add(layers.Conv2D(32, (3,3), activation='relu', input_shape = (28, 28,1), padding='same'))\n",
    "model.add(layers.MaxPooling2D((2,2)))\n",
    "model.add(layers.Conv2D(20, (3,3), activation='relu', padding='same'))\n",
    "model.add(layers.MaxPooling2D((2,2)))\n",
    "model.add(layers.Conv2D(10, (3,3), activation='relu', padding='same'))\n",
    "\n",
    "model.add(layers.Flatten())\n",
    "model.add(layers.Dense(10, activation='softmax'))\n",
    "\n",
    "model.summary()   "
   ]
  },
  {
   "cell_type": "markdown",
   "metadata": {},
   "source": [
    "- padding='valid'를 사용하면 피처맵의 크기가 가로, 세로 2씩 줄어든다 (26,26)"
   ]
  },
  {
   "cell_type": "code",
   "execution_count": null,
   "metadata": {
    "id": "_ikkdb8qsx6d"
   },
   "outputs": [],
   "source": [
    "model.compile(optimizer= 'rmsprop',\n",
    "             loss = 'categorical_crossentropy',\n",
    "             metrics = ['accuracy'])"
   ]
  },
  {
   "cell_type": "code",
   "execution_count": null,
   "metadata": {
    "colab": {
     "base_uri": "https://localhost:8080/"
    },
    "id": "FWsfipcXu20x",
    "outputId": "30798aa6-74eb-4717-bff9-0c69fbe69eca"
   },
   "outputs": [
    {
     "name": "stdout",
     "output_type": "stream",
     "text": [
      "Epoch 1/3\n",
      "938/938 [==============================] - 4s 4ms/step - loss: 1.8840 - accuracy: 0.5759\n",
      "Epoch 2/3\n",
      "938/938 [==============================] - 3s 4ms/step - loss: 0.1587 - accuracy: 0.9543\n",
      "Epoch 3/3\n",
      "938/938 [==============================] - 3s 4ms/step - loss: 0.0910 - accuracy: 0.9727\n"
     ]
    },
    {
     "data": {
      "text/plain": [
       "<tensorflow.python.keras.callbacks.History at 0x7f9d7245f9d0>"
      ]
     },
     "execution_count": 30,
     "metadata": {
      "tags": []
     },
     "output_type": "execute_result"
    }
   ],
   "source": [
    "model.fit(train_images_cnn, train_labels_cat, epochs=3, batch_size=64)"
   ]
  },
  {
   "cell_type": "code",
   "execution_count": null,
   "metadata": {
    "colab": {
     "base_uri": "https://localhost:8080/"
    },
    "id": "H4MhJEoUvCm0",
    "outputId": "b154f7eb-cfad-4f47-f0eb-fe9a6065e0f1"
   },
   "outputs": [
    {
     "name": "stdout",
     "output_type": "stream",
     "text": [
      "313/313 [==============================] - 1s 2ms/step - loss: 0.0787 - accuracy: 0.9759\n",
      "test_acc =  0.9758999943733215\n"
     ]
    }
   ],
   "source": [
    "test_loss, test_acc = model.evaluate(test_images_cnn, test_labels_cat)\n",
    "print('test_acc = ',test_acc)"
   ]
  },
  {
   "cell_type": "markdown",
   "metadata": {
    "id": "snRNbW4dv7cF"
   },
   "source": [
    "# MLP를 이용한  회귀 예측\n",
    "\n",
    "- MLP는 이미지 인식에는 거의 사용하지 않고 회귀 예측에서, 선형모델을 개선하기 위해서 주로 사용한다"
   ]
  },
  {
   "cell_type": "code",
   "execution_count": null,
   "metadata": {
    "colab": {
     "base_uri": "https://localhost:8080/"
    },
    "id": "IZmE8tdVKrK_",
    "outputId": "0d77f53c-ff22-4e04-9711-cf47381efcd5"
   },
   "outputs": [
    {
     "name": "stdout",
     "output_type": "stream",
     "text": [
      "Downloading data from https://storage.googleapis.com/tensorflow/tf-keras-datasets/boston_housing.npz\n",
      "57344/57026 [==============================] - 0s 0us/step\n"
     ]
    },
    {
     "data": {
      "text/plain": [
       "(404, 13)"
      ]
     },
     "execution_count": 32,
     "metadata": {
      "tags": []
     },
     "output_type": "execute_result"
    }
   ],
   "source": [
    "from keras.datasets import boston_housing\n",
    "(x_train, y_train), (x_test, y_test) = boston_housing.load_data()\n",
    "x_train.shape"
   ]
  },
  {
   "cell_type": "code",
   "execution_count": null,
   "metadata": {
    "colab": {
     "base_uri": "https://localhost:8080/"
    },
    "id": "Niz7bErustST",
    "outputId": "a0d7c64a-3288-46ff-f109-a642444cae01"
   },
   "outputs": [
    {
     "data": {
      "text/plain": [
       "(array([[1.23247e+00, 0.00000e+00, 8.14000e+00, 0.00000e+00, 5.38000e-01,\n",
       "         6.14200e+00, 9.17000e+01, 3.97690e+00, 4.00000e+00, 3.07000e+02,\n",
       "         2.10000e+01, 3.96900e+02, 1.87200e+01],\n",
       "        [2.17700e-02, 8.25000e+01, 2.03000e+00, 0.00000e+00, 4.15000e-01,\n",
       "         7.61000e+00, 1.57000e+01, 6.27000e+00, 2.00000e+00, 3.48000e+02,\n",
       "         1.47000e+01, 3.95380e+02, 3.11000e+00],\n",
       "        [4.89822e+00, 0.00000e+00, 1.81000e+01, 0.00000e+00, 6.31000e-01,\n",
       "         4.97000e+00, 1.00000e+02, 1.33250e+00, 2.40000e+01, 6.66000e+02,\n",
       "         2.02000e+01, 3.75520e+02, 3.26000e+00]]), array([15.2, 42.3, 50. ]))"
      ]
     },
     "execution_count": 34,
     "metadata": {
      "tags": []
     },
     "output_type": "execute_result"
    }
   ],
   "source": [
    "x_train[:3], y_train[:3]"
   ]
  },
  {
   "cell_type": "code",
   "execution_count": null,
   "metadata": {
    "colab": {
     "base_uri": "https://localhost:8080/"
    },
    "id": "jda18OUhKrLC",
    "outputId": "e3d2aa79-9dc7-470d-de76-c0878b496e5a"
   },
   "outputs": [
    {
     "name": "stdout",
     "output_type": "stream",
     "text": [
      "Model: \"sequential_6\"\n",
      "_________________________________________________________________\n",
      "Layer (type)                 Output Shape              Param #   \n",
      "=================================================================\n",
      "dense_11 (Dense)             (None, 32)                448       \n",
      "_________________________________________________________________\n",
      "batch_normalization (BatchNo (None, 32)                128       \n",
      "_________________________________________________________________\n",
      "dense_12 (Dense)             (None, 16)                528       \n",
      "_________________________________________________________________\n",
      "batch_normalization_1 (Batch (None, 16)                64        \n",
      "_________________________________________________________________\n",
      "dropout (Dropout)            (None, 16)                0         \n",
      "_________________________________________________________________\n",
      "dense_13 (Dense)             (None, 1)                 17        \n",
      "=================================================================\n",
      "Total params: 1,185\n",
      "Trainable params: 1,089\n",
      "Non-trainable params: 96\n",
      "_________________________________________________________________\n"
     ]
    }
   ],
   "source": [
    "model = models.Sequential()\n",
    "model.add(layers.Dense(32, activation='relu', input_shape = (13,)))\n",
    "model.add(layers.BatchNormalization())\n",
    "model.add(layers.Dense(16, activation='relu'))\n",
    "model.add(layers.BatchNormalization())\n",
    "model.add(layers.Dropout(0.2))\n",
    "model.add(layers.Dense(1, activation='linear'))\n",
    "model.summary()"
   ]
  },
  {
   "cell_type": "code",
   "execution_count": null,
   "metadata": {
    "id": "Ht1iqX8EKrLC"
   },
   "outputs": [],
   "source": [
    "model.compile(optimizer= 'adam', loss = 'mean_squared_error')"
   ]
  },
  {
   "cell_type": "code",
   "execution_count": null,
   "metadata": {
    "colab": {
     "base_uri": "https://localhost:8080/"
    },
    "collapsed": true,
    "id": "qTBBPlk_KrLE",
    "outputId": "2b5dcd49-a5e5-451d-a416-5f594e8ae496",
    "scrolled": true
   },
   "outputs": [
    {
     "name": "stdout",
     "output_type": "stream",
     "text": [
      "Epoch 1/32\n",
      "51/51 [==============================] - 1s 3ms/step - loss: 600.7267\n",
      "Epoch 2/32\n",
      "51/51 [==============================] - 0s 2ms/step - loss: 530.1464\n",
      "Epoch 3/32\n",
      "51/51 [==============================] - 0s 2ms/step - loss: 534.9717\n",
      "Epoch 4/32\n",
      "51/51 [==============================] - 0s 3ms/step - loss: 497.2892\n",
      "Epoch 5/32\n",
      "51/51 [==============================] - 0s 3ms/step - loss: 501.3401\n",
      "Epoch 6/32\n",
      "51/51 [==============================] - 0s 2ms/step - loss: 478.5774\n",
      "Epoch 7/32\n",
      "51/51 [==============================] - 0s 3ms/step - loss: 439.3036\n",
      "Epoch 8/32\n",
      "51/51 [==============================] - 0s 2ms/step - loss: 407.4474\n",
      "Epoch 9/32\n",
      "51/51 [==============================] - 0s 3ms/step - loss: 398.6365\n",
      "Epoch 10/32\n",
      "51/51 [==============================] - 0s 2ms/step - loss: 338.3229\n",
      "Epoch 11/32\n",
      "51/51 [==============================] - 0s 3ms/step - loss: 293.1346\n",
      "Epoch 12/32\n",
      "51/51 [==============================] - 0s 3ms/step - loss: 239.3916\n",
      "Epoch 13/32\n",
      "51/51 [==============================] - 0s 3ms/step - loss: 227.0835\n",
      "Epoch 14/32\n",
      "51/51 [==============================] - 0s 3ms/step - loss: 192.4036\n",
      "Epoch 15/32\n",
      "51/51 [==============================] - 0s 3ms/step - loss: 140.8870\n",
      "Epoch 16/32\n",
      "51/51 [==============================] - 0s 3ms/step - loss: 134.3769\n",
      "Epoch 17/32\n",
      "51/51 [==============================] - 0s 3ms/step - loss: 118.8935\n",
      "Epoch 18/32\n",
      "51/51 [==============================] - 0s 2ms/step - loss: 94.7074\n",
      "Epoch 19/32\n",
      "51/51 [==============================] - 0s 3ms/step - loss: 59.3362\n",
      "Epoch 20/32\n",
      "51/51 [==============================] - 0s 3ms/step - loss: 79.3312\n",
      "Epoch 21/32\n",
      "51/51 [==============================] - 0s 3ms/step - loss: 53.2268\n",
      "Epoch 22/32\n",
      "51/51 [==============================] - 0s 2ms/step - loss: 48.8170\n",
      "Epoch 23/32\n",
      "51/51 [==============================] - 0s 3ms/step - loss: 52.0978\n",
      "Epoch 24/32\n",
      "51/51 [==============================] - 0s 2ms/step - loss: 57.1522\n",
      "Epoch 25/32\n",
      "51/51 [==============================] - 0s 3ms/step - loss: 42.7972\n",
      "Epoch 26/32\n",
      "51/51 [==============================] - 0s 3ms/step - loss: 42.6074\n",
      "Epoch 27/32\n",
      "51/51 [==============================] - 0s 3ms/step - loss: 45.9003\n",
      "Epoch 28/32\n",
      "51/51 [==============================] - 0s 2ms/step - loss: 39.0407\n",
      "Epoch 29/32\n",
      "51/51 [==============================] - 0s 3ms/step - loss: 45.7103\n",
      "Epoch 30/32\n",
      "51/51 [==============================] - 0s 3ms/step - loss: 49.6838\n",
      "Epoch 31/32\n",
      "51/51 [==============================] - 0s 3ms/step - loss: 39.4955\n",
      "Epoch 32/32\n",
      "51/51 [==============================] - 0s 3ms/step - loss: 40.6260\n"
     ]
    }
   ],
   "source": [
    "record = model.fit(x_train, y_train, epochs=32, batch_size=8, verbose=1)"
   ]
  },
  {
   "cell_type": "code",
   "execution_count": null,
   "metadata": {
    "colab": {
     "base_uri": "https://localhost:8080/"
    },
    "collapsed": true,
    "id": "GrCjjQh_KrLE",
    "outputId": "2761bca1-3946-4e2b-fde1-6dff286fe66c"
   },
   "outputs": [
    {
     "data": {
      "text/plain": [
       "array([[ 4.8955355],\n",
       "       [21.511457 ],\n",
       "       [25.599527 ],\n",
       "       [35.141815 ],\n",
       "       [28.320784 ],\n",
       "       [21.71168  ],\n",
       "       [33.408226 ],\n",
       "       [26.911348 ],\n",
       "       [19.38376  ],\n",
       "       [22.815626 ]], dtype=float32)"
      ]
     },
     "execution_count": 41,
     "metadata": {
      "tags": []
     },
     "output_type": "execute_result"
    }
   ],
   "source": [
    "model.predict(x_test[:10]), y_test[:10]"
   ]
  },
  {
   "cell_type": "code",
   "execution_count": null,
   "metadata": {
    "colab": {
     "base_uri": "https://localhost:8080/"
    },
    "collapsed": true,
    "id": "7mNtVLukKrLF",
    "outputId": "6f8c254b-4ab5-431f-a3d4-4729969fb39d"
   },
   "outputs": [
    {
     "data": {
      "text/plain": [
       "dict_keys(['loss'])"
      ]
     },
     "execution_count": 43,
     "metadata": {
      "tags": []
     },
     "output_type": "execute_result"
    }
   ],
   "source": [
    "record.history.keys()"
   ]
  },
  {
   "cell_type": "code",
   "execution_count": null,
   "metadata": {
    "colab": {
     "base_uri": "https://localhost:8080/"
    },
    "collapsed": true,
    "id": "V7jm_3gGKrLJ",
    "outputId": "e4a6f3cb-f4bd-467a-ca39-070c2202f613"
   },
   "outputs": [
    {
     "data": {
      "image/png": "[encoded data removed]",
      "text/plain": [
       "<Figure size 432x288 with 1 Axes>"
      ]
     },
     "metadata": {
      "image/png": {
       "height": 251,
       "width": 375
      },
      "needs_background": "light",
      "tags": []
     },
     "output_type": "display_data"
    }
   ],
   "source": [
    "loss = record.history['loss']\n",
    "epochs = range(1, len(loss)+1)\n",
    "plt.plot(epochs, loss, 'ro', label='Training loss')\n",
    "plt.legend()\n",
    "plt.show()"
   ]
  },
  {
   "cell_type": "code",
   "execution_count": null,
   "metadata": {
    "id": "Hp6KIDgWKrLR"
   },
   "outputs": [],
   "source": [
    "y_pred = model.predict(x_test)"
   ]
  },
  {
   "cell_type": "code",
   "execution_count": null,
   "metadata": {
    "colab": {
     "base_uri": "https://localhost:8080/"
    },
    "id": "JHytC65Bu5Dy",
    "outputId": "94724cdf-8dd2-4262-f371-ea60da37da2e"
   },
   "outputs": [
    {
     "data": {
      "text/plain": [
       "0.6493541596909549"
      ]
     },
     "execution_count": 47,
     "metadata": {
      "tags": []
     },
     "output_type": "execute_result"
    }
   ],
   "source": [
    "from sklearn.metrics import r2_score\n",
    "r2_score(y_test, y_pred)"
   ]
  },
  {
   "cell_type": "markdown",
   "metadata": {},
   "source": [
    "# 최적의 신경망 설계\n",
    "## 최적의 은닉층 수 (n)\n",
    "- n이 클수록 신경망이 표현할 수 있는 추상화가 다양해진다, 즉, 복잡한 입력 형태를 처리할 수 있다\n",
    "- n이 클수록 과대적합될 수 있다. \n",
    "- 과대적합을 피하려면 학습 데이터가 더 다양하게 많거나, 모델을 간단히 해야 한다. 즉, n을 줄여야 한다\n",
    "- 처음에 은닉층은 2개 정도만 사용하여 동작을 확인하는 것이 필요하다 (기본 동작은 한다)\n",
    "- 점차 n을 키우면서 성능이 개선되고, 과대적합이 발생하지 않는지를 관찰한다\n",
    "- 최고의 성능을 확인한후, 필요하면 (계산량을 줄이는 목적 등), 성능을 유지하는 범위 내에서 최소한의 n을 줄여서 선택한다\n",
    "\n",
    "## 최적의 셀 수 (m)\n",
    "- 저수준의 특성이 다양하면 앞단의 m을 크게 한다\n",
    "- 추상화가 될수록 즉, 고수준의 특성이 다양하면 뒷단의 m을 크게 한다 (보통 고수준의 특성이 다양해진다)"
   ]
  },
  {
   "cell_type": "code",
   "execution_count": null,
   "metadata": {},
   "outputs": [],
   "source": []
  }
 ],
 "metadata": {
  "accelerator": "GPU",
  "colab": {
   "collapsed_sections": [],
   "name": "h_31_MLP_CNN기초.ipynb의 사본",
   "provenance": []
  },
  "kernelspec": {
   "display_name": "Python 3",
   "language": "python",
   "name": "python3"
  },
  "language_info": {
   "codemirror_mode": {
    "name": "ipython",
    "version": 3
   },
   "file_extension": ".py",
   "mimetype": "text/x-python",
   "name": "python",
   "nbconvert_exporter": "python",
   "pygments_lexer": "ipython3",
   "version": "3.7.6"
  },
  "toc": {
   "base_numbering": 1,
   "nav_menu": {},
   "number_sections": false,
   "sideBar": true,
   "skip_h1_title": false,
   "title_cell": "Table of Contents",
   "title_sidebar": "Contents",
   "toc_cell": false,
   "toc_position": {},
   "toc_section_display": true,
   "toc_window_display": false
  }
 },
 "nbformat": 4,
 "nbformat_minor": 1
}
